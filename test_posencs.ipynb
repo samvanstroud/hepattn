{
 "cells": [
  {
   "cell_type": "code",
   "execution_count": null,
   "metadata": {},
   "outputs": [],
   "source": [
    "from pathlib import Path\n",
    "\n",
    "import matplotlib.pyplot as plt\n",
    "import torch\n",
    "\n",
    "from hepattn.models.posenc import (\n",
    "    FourierPositionEncoder,\n",
    "    PositionEncoder,\n",
    "    pos_enc,\n",
    "    pos_enc_symmetric,\n",
    ")\n",
    "from hepattn.utils.visualise_pes import (\n",
    "    create_simple_pos_enc_visualization,\n",
    "    create_similarity_matrix_visualization,\n",
    ")"
   ]
  },
  {
   "cell_type": "code",
   "execution_count": null,
   "metadata": {},
   "outputs": [],
   "source": [
    "def test_create_pos_enc_visualizations_basic():\n",
    "    \"\"\"Test the comprehoding visualization function with basic data.\"\"\"\n",
    "    # Create test data\n",
    "    num_hits = 1000\n",
    "    num_queries = 1000\n",
    "    dim = 128\n",
    "    hit_phi = 2 * torch.pi * (torch.arange(num_hits) / num_hits - 0.5)\n",
    "    query_phi = 2 * torch.pi * (torch.arange(num_queries) / num_queries - 0.5)\n",
    "    out_dir = Path(\"tests/outputs/posenc\")\n",
    "    out_dir.mkdir(exist_ok=True, parents=True)\n",
    "\n",
    "    for alpha in [1, 2, 20, 100, 1000]:\n",
    "        for base in [100, 50000, 100000]:\n",
    "            hit_posencoder = PositionEncoder(\n",
    "                input_name=\"test_hit_input\",\n",
    "                fields=[\"phi\"],\n",
    "                sym_fields=[\"phi\"],\n",
    "                dim=dim,\n",
    "                alpha=alpha,\n",
    "                base=base,\n",
    "            )\n",
    "            query_posencoder = PositionEncoder(\n",
    "                input_name=\"test_query_input\",\n",
    "                fields=[\"phi\"],\n",
    "                sym_fields=[\"phi\"],\n",
    "                dim=dim,\n",
    "                alpha=alpha,\n",
    "                base=base,\n",
    "            )\n",
    "            hit_posencs = hit_posencoder({\"test_hit_input_phi\": hit_phi})\n",
    "            query_posencs = query_posencoder({\"test_query_input_phi\": query_phi})\n",
    "            create_simple_pos_enc_visualization(hit_posencs, save_path=f\"{out_dir}/hit_pe_alpha{alpha}_base{base}.jpeg\")\n",
    "            create_simple_pos_enc_visualization(query_posencs, save_path=f\"{out_dir}/query_pe_alpha{alpha}_base{base}.jpeg\")\n",
    "            create_similarity_matrix_visualization(\n",
    "                hit_posencs,\n",
    "                query_posencs,\n",
    "                \"Hit PE - Query PE Similarity\",\n",
    "                f\"{out_dir}/dot_prod_alpha{alpha}_base{base}.jpeg\",\n",
    "            )"
   ]
  }
 ],
 "metadata": {
  "language_info": {
   "name": "python"
  }
 },
 "nbformat": 4,
 "nbformat_minor": 2
}
