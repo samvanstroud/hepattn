{
 "cells": [
  {
   "cell_type": "code",
   "execution_count": null,
   "metadata": {},
   "outputs": [],
   "source": [
    "%load_ext autoreload\n",
    "%autoreload 2\n",
    "\n",
    "# import sys, os\n",
    "# sys.path.append(os.path.dirname(os.path.dirname(os.getcwd())))\n",
    "# os.environ['PYTHONPATH'] = ':'.join(sys.path)"
   ]
  },
  {
   "cell_type": "code",
   "execution_count": null,
   "metadata": {},
   "outputs": [],
   "source": [
    "from copy import deepcopy\n",
    "from pathlib import Path\n",
    "\n",
    "import matplotlib.pyplot as plt\n",
    "import numpy as np\n",
    "import uproot\n",
    "from scipy.stats import iqr\n",
    "\n",
    "from hepattn.experiments.clic.performance.performance import Performance\n",
    "from hepattn.experiments.clic.performance.plot_helper_event import (\n",
    "    compute_jet_residual_dict,\n",
    "    plot_jet_marginals,\n",
    "    plot_jet_res_boxplot,\n",
    "    plot_jet_residuals,\n",
    "    plot_jet_response,\n",
    "    plot_met_res_and_ht_res,\n",
    ")\n",
    "from hepattn.experiments.clic.performance.plot_helper_particle import plot_eff_fr_purity, plot_residuals, plot_residuals_neutrals"
   ]
  },
  {
   "cell_type": "code",
   "execution_count": null,
   "metadata": {},
   "outputs": [],
   "source": [
    "save_dir = \"/share/gpu1/syw24/hepattn/src/hepattn/experiments/clic/maskformer_infer_best\"\n",
    "SAVE_FIG = True"
   ]
  },
  {
   "cell_type": "code",
   "execution_count": null,
   "metadata": {},
   "outputs": [],
   "source": [
    "Path(save_dir).mkdir(parents=True, exist_ok=True)"
   ]
  },
  {
   "cell_type": "code",
   "execution_count": null,
   "metadata": {},
   "outputs": [],
   "source": [
    "net_dict = {\n",
    "    # \"mpflow\": \"/storage/agrp/dmitrykl/hgpf/hepattn/src/hepattn/experiments/clic/logs/CLIC_Pflow_FullDiceFix_20250611-T181526/ckpts/epoch=172-val_loss=3.29018__test.root\",\n",
    "    # \"mpflow\": \"/storage/agrp/dmitrykl/hgpf/hepattn/src/hepattn/experiments/clic/logs/CLIC_Pflow_FullDiceFoc_20250612-T131052/ckpts/epoch=195-val_loss=3.42870__test.root\",\n",
    "    # \"mpflow\":   \"/storage/agrp/dmitrykl/hgpf/hepattn/src/hepattn/experiments/clic/logs/CLIC_Pflow_FullDiceFoc_20250612-T131052/ckpts/epoch=195-val_loss=3.42870__test__common.root\",\n",
    "    # \"mpflow\": \"/share/gpu1/syw24/hepattn/logs/CLIC_Pflow_Oldversion_20250706-T010552/ckpts/epoch=056-val_loss=4.08113__test.root\",\n",
    "    \"mpflow\": \"/share/gpu1/syw24/hepattn/logs/CLIC_Pflow_FullDiceFocFix_bf16_mixed_4gpu_oldloss_modified_20250709-T104047/ckpts/epoch=198-val_loss=3.30563__test.root\",\n",
    "    # \"hgpflow\": \"/storage/agrp/nilotpal/HGPFlow_v2/experiments/hgpflow_v2/clicxminixbig1x2xs2xxxds7kirm1yo/inference/ee_qq_new/pred_test_p8_ee_qq_ecm380_20k_seg_bw0.3_nocut_merged.root\",\n",
    "    # 'hgpflow'\n",
    "}"
   ]
  },
  {
   "cell_type": "code",
   "execution_count": null,
   "metadata": {},
   "outputs": [],
   "source": [
    "perf_obj = Performance(\n",
    "    # truth_path=\"/share/gpu1/syw24/dmitrii_clic/test_clic_common_raw.root\",\n",
    "    truth_path=\"/share/gpu1/syw24/dmitrii_clic/test_clic_raw.root\",\n",
    "    networks=net_dict,\n",
    "    # num_events=10000,\n",
    "    # num_events={\n",
    "    #     'mpflow' : 25_000,\n",
    "    # }\n",
    ")"
   ]
  },
  {
   "cell_type": "code",
   "execution_count": null,
   "metadata": {},
   "outputs": [],
   "source": [
    "perf_obj.reorder_and_find_intersection()"
   ]
  },
  {
   "cell_type": "code",
   "execution_count": null,
   "metadata": {},
   "outputs": [],
   "source": [
    "bins = [\n",
    "    np.linspace(0, 300, 100),\n",
    "    np.linspace(-4, 4, 50),\n",
    "    np.linspace(-np.pi, np.pi, 50),\n",
    "]\n",
    "var_names = [\"pt\", \"eta\", \"phi\"]\n",
    "fig, ax = plt.subplots(2, 3, figsize=(12, 6))\n",
    "mask_fns = [\n",
    "    lambda x: x < 3,\n",
    "    lambda x: (x < 5) & (x > 2),\n",
    "]\n",
    "truth_class = np.concatenate(perf_obj.truth_dict[\"particle_class\"])\n",
    "pandora_class = np.concatenate(perf_obj.truth_dict[\"pandora_class\"])\n",
    "\n",
    "for i in range(3):\n",
    "    for j in range(2):\n",
    "        ax[j, i].hist(\n",
    "            np.concatenate(perf_obj.truth_dict[\"particle_\" + var_names[i]])[mask_fns[j](truth_class)],\n",
    "            bins=bins[i],\n",
    "            histtype=\"stepfilled\",\n",
    "            alpha=0.5,\n",
    "            label=\"truth\",\n",
    "            density=True,\n",
    "        )\n",
    "        ax[j, i].hist(\n",
    "            np.concatenate(perf_obj.truth_dict[\"pandora_\" + var_names[i]])[mask_fns[j](pandora_class)],\n",
    "            bins=bins[i],\n",
    "            histtype=\"step\",\n",
    "            label=\"pandora\",\n",
    "            density=True,\n",
    "        )\n",
    "        for key, value in perf_obj.data.items():\n",
    "            pf_class = np.concatenate(value[\"class\"])\n",
    "            ax[j, i].hist(\n",
    "                np.concatenate(value[var_names[i]])[mask_fns[j](pf_class)],\n",
    "                bins=bins[i],\n",
    "                histtype=\"step\",\n",
    "                label=key,\n",
    "                density=True,\n",
    "            )\n",
    "            if key in {\"hgpflow\", \"mpflow\"}:\n",
    "                ax[j, i].hist(\n",
    "                    np.concatenate(value[\"proxy_\" + var_names[i]])[mask_fns[j](pf_class)],\n",
    "                    bins=bins[i],\n",
    "                    histtype=\"step\",\n",
    "                    label=key + \" proxy\",\n",
    "                    density=True,\n",
    "                )\n",
    "        ax[j, i].set_title(var_names[i])\n",
    "        ax[j, i].legend()\n",
    "        ax[j, 0].set_yscale(\"log\")\n",
    "\n",
    "plt.tight_layout()\n",
    "plt.show()"
   ]
  },
  {
   "cell_type": "code",
   "execution_count": null,
   "metadata": {},
   "outputs": [],
   "source": [
    "def get_n_particles(data_dict, key=\"class\"):\n",
    "    n_charged = []\n",
    "    n_neutral = []\n",
    "    for i in range(len(data_dict[key])):\n",
    "        ch_mask = data_dict[key][i] <= 2\n",
    "        n_charged.append(np.sum(ch_mask))\n",
    "        n_neutral.append(np.sum(~ch_mask))\n",
    "    return np.array(n_charged), np.array(n_neutral)"
   ]
  },
  {
   "cell_type": "code",
   "execution_count": null,
   "metadata": {},
   "outputs": [],
   "source": [
    "n_charged_truth, n_neutral_truth = get_n_particles(perf_obj.truth_dict, key=\"particle_class\")\n",
    "n_charged_pandora, n_neutral_pandora = get_n_particles(perf_obj.truth_dict, key=\"pandora_class\")\n",
    "\n",
    "for key in perf_obj.data:\n",
    "    n_charged, n_neutral = get_n_particles(perf_obj.data[key])\n",
    "    perf_obj.data[key][\"n_charged\"] = n_charged\n",
    "    perf_obj.data[key][\"n_neutral\"] = n_neutral"
   ]
  },
  {
   "cell_type": "code",
   "execution_count": null,
   "metadata": {},
   "outputs": [],
   "source": [
    "fig, ax = plt.subplots(1, 2, figsize=(12, 6))\n",
    "\n",
    "ax[0].hist(n_charged_truth, bins=np.arange(0, 100, 5), histtype=\"stepfilled\", label=\"truth\")\n",
    "ax[1].hist(n_neutral_truth, bins=np.arange(0, 100, 5), histtype=\"stepfilled\", label=\"truth\")\n",
    "ax[0].hist(n_charged_pandora, bins=np.arange(0, 100, 5), histtype=\"step\", label=\"pandora\")\n",
    "ax[1].hist(n_neutral_pandora, bins=np.arange(0, 100, 5), histtype=\"step\", label=\"pandora\")\n",
    "for key in perf_obj.data:\n",
    "    n_charged, n_neutral = perf_obj.data[key][\"n_charged\"], perf_obj.data[key][\"n_neutral\"]\n",
    "    ax[0].hist(n_charged, bins=np.arange(0, 100, 5), histtype=\"step\", label=key)\n",
    "    ax[1].hist(n_neutral, bins=np.arange(0, 100, 5), histtype=\"step\", label=key)\n",
    "ax[0].legend()\n",
    "ax[1].legend()\n",
    "ax[0].set_title(\"Number of charged particles\")\n",
    "ax[1].set_title(\"Number of neutral particles\")\n",
    "plt.show()"
   ]
  },
  {
   "cell_type": "code",
   "execution_count": null,
   "metadata": {},
   "outputs": [],
   "source": [
    "def _add_hist(ax, data, bins, label, histtype=\"step\", **kwargs):\n",
    "    mean, iqr_ = np.mean(data), iqr(data)\n",
    "    label = rf\"{label}: $\\mu$={mean:.2f}, iqr={iqr_:.2f}\"\n",
    "    ax.hist(data, bins=bins, histtype=histtype, label=label, **kwargs)"
   ]
  },
  {
   "cell_type": "code",
   "execution_count": null,
   "metadata": {},
   "outputs": [],
   "source": [
    "fig, ax = plt.subplots(1, 2, figsize=(12, 6))\n",
    "_add_hist(ax[0], n_charged_truth - n_charged_pandora, bins=np.arange(-10, 20, 1), histtype=\"stepfilled\", label=\"pandora\")\n",
    "_add_hist(ax[1], n_neutral_truth - n_neutral_pandora, bins=np.arange(-20, 20, 1), histtype=\"stepfilled\", label=\"pandora\")\n",
    "for key in perf_obj.data:\n",
    "    n_charged, n_neutral = perf_obj.data[key][\"n_charged\"], perf_obj.data[key][\"n_neutral\"]\n",
    "    _add_hist(ax[0], n_charged_truth - n_charged, bins=np.arange(-10, 20, 1), label=key, histtype=\"step\")\n",
    "    _add_hist(ax[1], n_neutral_truth - n_neutral, bins=np.arange(-20, 20, 1), label=key, histtype=\"step\")\n",
    "ax[0].legend()\n",
    "ax[1].legend()\n",
    "ax[0].set_title(\"Difference in number of charged particles\")\n",
    "ax[1].set_title(\"Difference in number of neutral particles\")\n",
    "plt.show()"
   ]
  },
  {
   "cell_type": "code",
   "execution_count": null,
   "metadata": {},
   "outputs": [],
   "source": [
    "plt.hist(n_charged + n_neutral)"
   ]
  },
  {
   "cell_type": "markdown",
   "metadata": {},
   "source": [
    "### Overwrite\n",
    "\n",
    "- `hgpflow_pt` for neutral particles is better than `proxy_pt`\n",
    "- But the rest are just worse\n",
    "- So, I will just overwrite the `hgpflow_xxx` with `proxy_xxx` for the rest"
   ]
  },
  {
   "cell_type": "code",
   "execution_count": null,
   "metadata": {},
   "outputs": [],
   "source": [
    "# perf_obj.data[\"hgpflow\"][\"eta\"] = perf_obj.data[\"hgpflow\"][\"proxy_eta\"]\n",
    "# perf_obj.data[\"hgpflow\"][\"phi\"] = perf_obj.data[\"hgpflow\"][\"proxy_phi\"]\n",
    "# perf_obj.data[\"hgpflow\"][\"pt\"] = perf_obj.data[\"hgpflow\"][\"proxy_pt\"]\n",
    "\n",
    "# for i in range(len(perf_obj.data[\"hgpflow\"][\"pt\"])):\n",
    "#     ch_mask = perf_obj.data[\"hgpflow\"][\"class\"][i] <= 2\n",
    "#     perf_obj.data[\"hgpflow\"][\"pt\"][i][ch_mask] = perf_obj.data[\"hgpflow\"][\"proxy_pt\"][i][ch_mask]"
   ]
  },
  {
   "cell_type": "code",
   "execution_count": null,
   "metadata": {},
   "outputs": [],
   "source": [
    "idx = 0\n",
    "\n",
    "print(\"Particle data\")\n",
    "print(np.sort(perf_obj.truth_dict[\"particle_pt\"][idx][perf_obj.truth_dict[\"particle_class\"][idx] <= 2])[::-1])\n",
    "print(\"MPflow proxy data\")\n",
    "print(np.sort(perf_obj.data[\"mpflow\"][\"proxy_pt\"][idx][perf_obj.data[\"mpflow\"][\"class\"][idx] <= 2])[::-1])\n",
    "# print(\"HGPflow proxy data\")\n",
    "# print(np.sort(perf_obj.data['hgpflow']['proxy_pt'][idx][perf_obj.data['hgpflow']['class'][idx] <= 2])[::-1])"
   ]
  },
  {
   "cell_type": "code",
   "execution_count": null,
   "metadata": {},
   "outputs": [],
   "source": [
    "with uproot.open(\"/share/gpu1/syw24/dmitrii_clic/test_clic_common_infer.root\") as f:\n",
    "    track_pt = f[\"EventTree\"][\"track_pt\"].array(library=\"np\")"
   ]
  },
  {
   "cell_type": "code",
   "execution_count": null,
   "metadata": {},
   "outputs": [],
   "source": [
    "track_pt[0]"
   ]
  },
  {
   "cell_type": "code",
   "execution_count": null,
   "metadata": {},
   "outputs": [],
   "source": [
    "perf_obj.compute_jets(n_procs=20)\n",
    "perf_obj.match_jets()"
   ]
  },
  {
   "cell_type": "markdown",
   "metadata": {},
   "source": [
    "### Jet residual plots"
   ]
  },
  {
   "cell_type": "code",
   "execution_count": null,
   "metadata": {},
   "outputs": [],
   "source": [
    "_dict = {\n",
    "    \"pandora\": perf_obj.truth_dict[\"matched_pandora_jets\"],\n",
    "    # 'mlpf': perf_obj.mlpf_dict['matched_mlpf_jets'],\n",
    "    # \"mpflow\": perf_obj.data[\"mpflow\"][\"matched_jets\"],\n",
    "    \"proxy\": perf_obj.data[\"mpflow\"][\"matched_proxy_jets\"],\n",
    "    # \"hgpflow\": perf_obj.data[\"hgpflow\"][\"matched_proxy_jets\"],\n",
    "    # 'hgpflow_target': perf_obj.data['hgpflow_target']['matched_jets'],\n",
    "}\n",
    "\n",
    "jet_residual_dict = compute_jet_residual_dict(_dict, dr_cut=0.1, leading_n_jets=2, pt_min=10)"
   ]
  },
  {
   "cell_type": "code",
   "execution_count": null,
   "metadata": {},
   "outputs": [],
   "source": [
    "# change the x_lims\n",
    "\n",
    "figs = plot_jet_residuals(jet_residual_dict, pt_relative=True, separate_figures=False)\n",
    "if SAVE_FIG:\n",
    "    if isinstance(figs, list):\n",
    "        figs[0].savefig(f\"{save_dir}/clic_dijet_jet_residuals_pt.png\", dpi=300)\n",
    "        figs[1].savefig(f\"{save_dir}/clic_dijet_jet_residuals_dr.png\", dpi=300)\n",
    "        figs[2].savefig(f\"{save_dir}/clic_dijet_jet_residuals_constcount.png\", dpi=300)\n",
    "        figs[3].savefig(f\"{save_dir}/clic_dijet_jet_residuals_e.png\", dpi=300)\n",
    "    else:\n",
    "        figs.tight_layout()\n",
    "        figs.savefig(f\"{save_dir}/clic_dijet_jet_residuals.png\", dpi=300, bbox_inches=\"tight\")"
   ]
  },
  {
   "cell_type": "code",
   "execution_count": null,
   "metadata": {},
   "outputs": [],
   "source": [
    "pt_bins = np.array([0, 20, 40, 60, 80, 100, 120, 140, 160, 180, 200])\n",
    "fig = plot_jet_res_boxplot(jet_residual_dict, bins=pt_bins, var=\"pt\")\n",
    "if SAVE_FIG:\n",
    "    fig.savefig(f\"{save_dir}/clic_dijet_jet_residuals_boxplot_pt.png\", dpi=300)"
   ]
  },
  {
   "cell_type": "code",
   "execution_count": null,
   "metadata": {},
   "outputs": [],
   "source": [
    "pt_bins = np.array([0, 20, 40, 60, 80, 100, 120, 140, 160, 180, 200])\n",
    "fig = plot_jet_response(jet_residual_dict, pt_bins=pt_bins, use_energy=True, separate_figures=False)\n",
    "if SAVE_FIG:\n",
    "    if isinstance(fig, list):\n",
    "        for i, f in enumerate(fig):\n",
    "            f.savefig(f\"{save_dir}/clic_dijet_jet_response_boxplot_{i}.png\", dpi=300)\n",
    "    else:\n",
    "        fig.savefig(f\"{save_dir}/clic_dijet_jet_response_boxplot.png\", dpi=300, bbox_inches=\"tight\")"
   ]
  },
  {
   "cell_type": "markdown",
   "metadata": {},
   "source": [
    "### jet marginal distributions"
   ]
  },
  {
   "cell_type": "code",
   "execution_count": null,
   "metadata": {},
   "outputs": [],
   "source": [
    "jet_dict = {\n",
    "    \"truth\": perf_obj.truth_dict[\"truth_jets\"],\n",
    "    \"pandora\": perf_obj.truth_dict[\"pandora_jets\"],\n",
    "    # 'mlpf': perf_obj.mlpf_dict['jets'],\n",
    "    # \"mpflow\": perf_obj.data[\"mpflow\"][\"jets\"],\n",
    "    \"proxy\": perf_obj.data[\"mpflow\"][\"proxy_jets\"],\n",
    "    # \"hgpflow\": perf_obj.data[\"hgpflow\"][\"jets\"],\n",
    "}\n",
    "\n",
    "fig = plot_jet_marginals(jet_dict, nleading=1, stylesheet=None)\n",
    "if SAVE_FIG:\n",
    "    fig.savefig(f\"{save_dir}/clic_dijet_jet_marginals.png\", dpi=300, bbox_inches=\"tight\")"
   ]
  },
  {
   "cell_type": "markdown",
   "metadata": {},
   "source": [
    "## Particle performance"
   ]
  },
  {
   "cell_type": "code",
   "execution_count": null,
   "metadata": {},
   "outputs": [],
   "source": [
    "perf_obj.hung_match_particles(flatten=True, return_unmatched=True)"
   ]
  },
  {
   "cell_type": "code",
   "execution_count": null,
   "metadata": {},
   "outputs": [],
   "source": [
    "style_sheet_eff_fr = {\n",
    "    \"LINE_STYLES\": {\n",
    "        \"proxy\": \"-\",\n",
    "        \"pandora\": \"--\",\n",
    "    },\n",
    "    \"COLORS\": {\n",
    "        \"proxy\": {\n",
    "            \"neut had\": \"mediumseagreen\",\n",
    "            \"photon\": \"tomato\",\n",
    "        },\n",
    "        \"pandora\": {\n",
    "            \"neut had\": \"dodgerblue\",\n",
    "            \"photon\": \"goldenrod\",\n",
    "        },\n",
    "    },\n",
    "}"
   ]
  },
  {
   "cell_type": "code",
   "execution_count": null,
   "metadata": {},
   "outputs": [],
   "source": [
    "eff_fr_purity_input_dict = {\n",
    "    \"proxy\": {\n",
    "        \"ref_matched\": perf_obj.data[\"mpflow\"][\"matched_proxy_particles\"][0],\n",
    "        \"comp_matched\": perf_obj.data[\"mpflow\"][\"matched_proxy_particles\"][1],\n",
    "        \"ref_unmatched\": perf_obj.data[\"mpflow\"][\"matched_proxy_particles\"][2],\n",
    "        \"comp_unmatched\": perf_obj.data[\"mpflow\"][\"matched_proxy_particles\"][3],\n",
    "    },\n",
    "    \"pandora\": {\n",
    "        \"ref_matched\": perf_obj.truth_dict[\"matched_pandora_particles\"][0],\n",
    "        \"comp_matched\": perf_obj.truth_dict[\"matched_pandora_particles\"][1],\n",
    "        \"ref_unmatched\": perf_obj.truth_dict[\"matched_pandora_particles\"][2],\n",
    "        \"comp_unmatched\": perf_obj.truth_dict[\"matched_pandora_particles\"][3],\n",
    "    },\n",
    "}\n",
    "\n",
    "fig = plot_eff_fr_purity(eff_fr_purity_input_dict, stylesheet=style_sheet_eff_fr)\n",
    "if SAVE_FIG:\n",
    "    fig.savefig(f\"{save_dir}/dijet_eff_fr_purity.png\", dpi=300, bbox_inches=\"tight\")"
   ]
  },
  {
   "cell_type": "code",
   "execution_count": null,
   "metadata": {},
   "outputs": [],
   "source": [
    "met_res_and_ht_res_input_dict = {\n",
    "    \"proxy\": [perf_obj.data[\"mpflow\"][\"proxy_pt\"], perf_obj.data[\"mpflow\"][\"proxy_phi\"]],\n",
    "    # \"mpflow\": [perf_obj.data[\"mpflow\"][\"pt\"], perf_obj.data[\"mpflow\"][\"phi\"]],\n",
    "    \"pandora\": [perf_obj.truth_dict[\"pandora_pt\"], perf_obj.truth_dict[\"pandora_phi\"]],\n",
    "}\n",
    "figs = plot_met_res_and_ht_res(\n",
    "    perf_obj.truth_dict[\"particle_pt\"], perf_obj.truth_dict[\"particle_phi\"], met_res_and_ht_res_input_dict, stylesheet=None, separate_figures=False\n",
    ")\n",
    "if SAVE_FIG:\n",
    "    if isinstance(figs, list):\n",
    "        for i, f in enumerate(figs):\n",
    "            f.savefig(f\"{save_dir}/clic_dijet_met_res_and_ht_res_{i}.png\", dpi=300)\n",
    "    else:\n",
    "        figs.savefig(f\"{save_dir}/clic_dijet_met_res_and_ht_res.png\", dpi=300, bbox_inches=\"tight\")"
   ]
  },
  {
   "cell_type": "code",
   "execution_count": null,
   "metadata": {},
   "outputs": [],
   "source": [
    "# from pflow.performance.plot_helper_particle import plot_residuals\n",
    "from hepattn.experiments.clic.performance.style_sheet import LINE_STYLES\n",
    "\n",
    "style_sheet_part_res = {\n",
    "    \"LINE_STYLES\": deepcopy(LINE_STYLES),\n",
    "}\n",
    "style_sheet_part_res[\"LINE_STYLES\"][\"proxy\"] = \"--\"\n",
    "# style_sheet_part_res['COLORS']['proxy'] = 'dodgerblue'\n",
    "# style_sheet_part_res['LINE_STYLES']['proxy'] = '-'\n",
    "\n",
    "_dict = {\n",
    "    \"pandora\": perf_obj.truth_dict[\"matched_pandora_particles\"],\n",
    "    # \"mpflow\": perf_obj.data[\"mpflow\"][\"matched_particles\"],\n",
    "    \"proxy\": perf_obj.data[\"mpflow\"][\"matched_proxy_particles\"],\n",
    "}\n",
    "\n",
    "qs = {\"Charged\": {\"pt\": 90, \"eta\": 80, \"phi\": 80}, \"Neutral\": {\"pt\": 90, \"eta\": 80, \"phi\": 80}}\n",
    "fig = plot_residuals(_dict, pt_relative=True, log_y=True, qs=qs, stylesheet=style_sheet_part_res)\n",
    "fig.tight_layout()\n",
    "if SAVE_FIG:\n",
    "    fig.savefig(f\"{save_dir}/dijet_particle_residuals.png\", dpi=300, bbox_inches=\"tight\")"
   ]
  },
  {
   "cell_type": "code",
   "execution_count": null,
   "metadata": {},
   "outputs": [],
   "source": [
    "_dict = {\n",
    "    \"proxy\": perf_obj.data[\"mpflow\"][\"matched_proxy_particles\"],\n",
    "    \"pandora\": perf_obj.truth_dict[\"matched_pandora_particles\"],\n",
    "    # \"mpflow\": perf_obj.data[\"mpflow\"][\"matched_particles\"],\n",
    "}\n",
    "\n",
    "qs = {\"Neutral hadron\": {\"pt\": 98, \"eta\": 75, \"phi\": 75}, \"Photon\": {\"pt\": 99, \"eta\": 90, \"phi\": 90}}\n",
    "figs = plot_residuals_neutrals(_dict, pt_relative=True, log_y=True, qs=qs, stylesheet=None, separate_figures=False)\n",
    "if SAVE_FIG:\n",
    "    if isinstance(figs, list):\n",
    "        figs[0].savefig(f\"{save_dir}/dijet_particle_residuals_neutralhad_pt.png\", dpi=300, bbox_inches=\"tight\")\n",
    "        figs[1].savefig(f\"{save_dir}/dijet_particle_residuals_neutralhad_eta.png\", dpi=300, bbox_inches=\"tight\")\n",
    "        figs[2].savefig(f\"{save_dir}/dijet_particle_residuals_neutralhad_phi.png\", dpi=300, bbox_inches=\"tight\")\n",
    "        figs[3].savefig(f\"{save_dir}/dijet_particle_residuals_photon_pt.png\", dpi=300, bbox_inches=\"tight\")\n",
    "        figs[4].savefig(f\"{save_dir}/dijet_particle_residuals_photon_eta.png\", dpi=300, bbox_inches=\"tight\")\n",
    "        figs[5].savefig(f\"{save_dir}/dijet_particle_residuals_photon_phi.png\", dpi=300, bbox_inches=\"tight\")\n",
    "    else:\n",
    "        figs.savefig(f\"{save_dir}/dijet_particle_residuals_neutralhad_photon.png\", dpi=300, bbox_inches=\"tight\")"
   ]
  },
  {
   "cell_type": "code",
   "execution_count": null,
   "metadata": {},
   "outputs": [],
   "source": [
    "perf_obj.hung_match_particles(flatten=False, return_unmatched=True)"
   ]
  },
  {
   "cell_type": "code",
   "execution_count": null,
   "metadata": {},
   "outputs": [],
   "source": [
    "import matplotlib.pyplot as plt"
   ]
  },
  {
   "cell_type": "code",
   "execution_count": null,
   "metadata": {},
   "outputs": [],
   "source": [
    "def plot_matched_event(idx):\n",
    "    fig, ax = plt.subplots(1, 1, figsize=(5, 5), dpi=150)\n",
    "    ref_class = perf_obj.data[\"mpflow\"][\"matched_proxy_particles\"][0][\"class\"][idx]\n",
    "    comp_class = perf_obj.data[\"mpflow\"][\"matched_proxy_particles\"][1][\"class\"][idx]\n",
    "    comp_class_hgpf = perf_obj.data[\"mpflow\"][\"matched_particles\"][1][\"class\"][idx]\n",
    "    ax.scatter(\n",
    "        perf_obj.data[\"mpflow\"][\"matched_proxy_particles\"][0][\"phi\"][idx][ref_class < 3],\n",
    "        perf_obj.data[\"mpflow\"][\"matched_proxy_particles\"][0][\"eta\"][idx][ref_class < 3],\n",
    "        marker=\"o\",\n",
    "        s=20,\n",
    "        color=\"blue\",\n",
    "        label=\"Truth\",\n",
    "    )\n",
    "    ax.scatter(\n",
    "        perf_obj.data[\"mpflow\"][\"matched_proxy_particles\"][1][\"phi\"][idx][comp_class < 3],\n",
    "        perf_obj.data[\"mpflow\"][\"matched_proxy_particles\"][1][\"eta\"][idx][comp_class < 3],\n",
    "        marker=\"x\",\n",
    "        s=20,\n",
    "        color=\"orange\",\n",
    "        label=\"Proxy\",\n",
    "    )\n",
    "    ax.scatter(\n",
    "        perf_obj.data[\"mpflow\"][\"matched_particles\"][1][\"phi\"][idx][comp_class_hgpf < 3],\n",
    "        perf_obj.data[\"mpflow\"][\"matched_particles\"][1][\"eta\"][idx][comp_class_hgpf < 3],\n",
    "        marker=\"^\",\n",
    "        s=20,\n",
    "        color=\"red\",\n",
    "        label=\"MPflow\",\n",
    "        alpha=0.5,\n",
    "    )\n",
    "    fig.suptitle(f\"Event {idx}\")\n",
    "    ax.set_xlabel(\"Phi\")\n",
    "    ax.set_ylabel(\"Eta\")\n",
    "    fig.legend()\n",
    "    fig.tight_layout()\n",
    "    fig.show()"
   ]
  },
  {
   "cell_type": "code",
   "execution_count": null,
   "metadata": {},
   "outputs": [],
   "source": [
    "plot_matched_event(0)"
   ]
  }
 ],
 "metadata": {
  "kernelspec": {
   "display_name": "hepattn",
   "language": "python",
   "name": "hepattn"
  },
  "language_info": {
   "codemirror_mode": {
    "name": "ipython",
    "version": 3
   },
   "file_extension": ".py",
   "mimetype": "text/x-python",
   "name": "python",
   "nbconvert_exporter": "python",
   "pygments_lexer": "ipython3",
   "version": "3.12.11"
  }
 },
 "nbformat": 4,
 "nbformat_minor": 2
}
