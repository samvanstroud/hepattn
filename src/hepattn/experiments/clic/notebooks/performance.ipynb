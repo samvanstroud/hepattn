{
 "cells": [
  {
   "cell_type": "code",
   "execution_count": null,
   "id": "c33f4cdc",
   "metadata": {},
   "outputs": [],
   "source": [
    "%load_ext autoreload\n",
    "%autoreload 2"
   ]
  },
  {
   "cell_type": "code",
   "execution_count": null,
   "id": "a3acae03",
   "metadata": {},
   "outputs": [],
   "source": [
    "import matplotlib.pyplot as plt\n",
    "import numpy as np\n",
    "\n",
    "from hepattn.experiments.clic.performance.performance import Performance, PerformanceConfig\n",
    "from hepattn.experiments.clic.performance.plot_helper import PlotHelper\n",
    "\n",
    "plt.rcParams[\"legend.fontsize\"] = \"10\""
   ]
  },
  {
   "cell_type": "code",
   "execution_count": null,
   "id": "7aa6d151",
   "metadata": {},
   "outputs": [],
   "source": [
    "config_dict = {\n",
    "    \"truth_path\": \"/share/gpu1/syw24/dmitrii_clic/test_clic_common_raw.root\",\n",
    "    \"networks\": [\n",
    "        {\n",
    "            \"name\": \"MPflow\",\n",
    "            \"path\": \"/share/rcifdata/svanstroud/hepattn/src/hepattn/experiments/clic/evals/clic_reg10_newregcost_20250808-T065710/epoch=194-val_loss=3.91330__test.root\",\n",
    "            \"network_type\": \"mpflow_proxy\",\n",
    "            \"ind_threshold\": 0.65,\n",
    "        },\n",
    "        {\n",
    "            \"name\": \"HGPflow\",\n",
    "            \"path\": \"/share/gpu1/syw24/dmitrii_clic/hgpflow.root\",\n",
    "            \"network_type\": \"hgpflow_proxy\",\n",
    "            \"ind_threshold\": 0.65,\n",
    "        },\n",
    "        {\n",
    "            \"name\": \"MLPF\",\n",
    "            \"path\": \"/share/gpu1/syw24/dmitrii_clic/srv01/agrp/dmitrykl/projects/mlpf/particleflow/experiments/pyg-clic-my_20250726_155449_087474/test/preds_common_checkpoint-21-2.657597/batch_size\",\n",
    "            \"network_type\": \"mlpf\",\n",
    "        },\n",
    "    ],\n",
    "}"
   ]
  },
  {
   "cell_type": "code",
   "execution_count": null,
   "id": "5ff2da59",
   "metadata": {},
   "outputs": [],
   "source": [
    "config = PerformanceConfig.from_dict(config_dict)"
   ]
  },
  {
   "cell_type": "code",
   "execution_count": null,
   "id": "cfe05f26",
   "metadata": {},
   "outputs": [],
   "source": [
    "perf_obj = Performance(config)"
   ]
  },
  {
   "cell_type": "code",
   "execution_count": null,
   "id": "e7243c70",
   "metadata": {},
   "outputs": [],
   "source": [
    "perf_obj.reorder_and_find_intersection()"
   ]
  },
  {
   "cell_type": "code",
   "execution_count": null,
   "id": "ac1f1d02",
   "metadata": {},
   "outputs": [],
   "source": [
    "perf_obj.compute_jets(n_procs=20)"
   ]
  },
  {
   "cell_type": "code",
   "execution_count": null,
   "id": "3acac71c",
   "metadata": {},
   "outputs": [],
   "source": [
    "perf_obj.hung_match_jets()\n",
    "perf_obj.compute_event_features()\n",
    "perf_obj.compute_jet_res_features(dr_cut=0.1, leading_n_jets=2, pt_min=10)"
   ]
  },
  {
   "cell_type": "code",
   "execution_count": null,
   "id": "2976404e",
   "metadata": {},
   "outputs": [],
   "source": [
    "from collections import defaultdict\n",
    "\n",
    "\n",
    "def default_style_dict():\n",
    "    return {\n",
    "        \"histtype\": \"step\",\n",
    "        \"linewidth\": 1,\n",
    "    }\n",
    "\n",
    "\n",
    "style_dict = defaultdict(default_style_dict)\n",
    "style_dict[\"Pandora\"] = {\n",
    "    \"color\": \"gray\",\n",
    "    \"alpha\": 0.5,\n",
    "    \"histtype\": \"stepfilled\",\n",
    "}"
   ]
  },
  {
   "cell_type": "code",
   "execution_count": null,
   "id": "8e18236b",
   "metadata": {},
   "outputs": [],
   "source": [
    "plot_helper = PlotHelper(perf_obj, style_dict=style_dict, plot_path=\"outputs\")"
   ]
  },
  {
   "cell_type": "code",
   "execution_count": null,
   "id": "134eaac8",
   "metadata": {},
   "outputs": [],
   "source": [
    "fig = plot_helper.plot_jet_residuals()"
   ]
  },
  {
   "cell_type": "code",
   "execution_count": null,
   "id": "1ee5b170",
   "metadata": {},
   "outputs": [],
   "source": [
    "fig = plot_helper.plot_evt_res()"
   ]
  },
  {
   "cell_type": "code",
   "execution_count": null,
   "id": "ec536798",
   "metadata": {},
   "outputs": [],
   "source": [
    "pt_bins = np.array([0, 20, 40, 60, 80, 100, 120, 140, 160, 180, 200])"
   ]
  },
  {
   "cell_type": "code",
   "execution_count": null,
   "id": "78dcae6c",
   "metadata": {},
   "outputs": [],
   "source": [
    "fig = plot_helper.plot_jet_res_boxplot(bins=pt_bins)"
   ]
  },
  {
   "cell_type": "code",
   "execution_count": null,
   "id": "8c9b01d9",
   "metadata": {},
   "outputs": [],
   "source": [
    "fig = plot_helper.plot_jet_response(pt_bins=pt_bins, use_energy=True)"
   ]
  },
  {
   "cell_type": "code",
   "execution_count": null,
   "id": "1184f9de",
   "metadata": {},
   "outputs": [],
   "source": [
    "perf_obj.hung_match_particles(flatten=True, return_unmatched=True)"
   ]
  },
  {
   "cell_type": "code",
   "execution_count": null,
   "id": "3d3bedc2",
   "metadata": {},
   "outputs": [],
   "source": [
    "qs = {\"Charged\": {\"pt\": 90, \"eta\": 80, \"phi\": 80}, \"Neutral\": {\"pt\": 90, \"eta\": 80, \"phi\": 80}}\n",
    "fig = plot_helper.plot_residuals(pt_relative=True, log_y=True, qs=qs)"
   ]
  },
  {
   "cell_type": "code",
   "execution_count": null,
   "id": "bef823ea",
   "metadata": {},
   "outputs": [],
   "source": [
    "qs = {\"Neutral hadron\": {\"pt\": 98, \"eta\": 75, \"phi\": 75}, \"Photon\": {\"pt\": 99, \"eta\": 90, \"phi\": 90}}\n",
    "fig = plot_helper.plot_residuals_neutrals(pt_relative=True, log_y=True, qs=qs)"
   ]
  },
  {
   "cell_type": "code",
   "execution_count": null,
   "id": "06cd9160",
   "metadata": {},
   "outputs": [],
   "source": [
    "eff_fr_colors = {\n",
    "    \"MPflow\": {\n",
    "        \"neut had\": \"mediumseagreen\",\n",
    "        \"photon\": \"tomato\",\n",
    "    },\n",
    "    \"HGPflow\": {\n",
    "        \"neut had\": \"steelblue\",\n",
    "        \"photon\": \"darkorange\",\n",
    "    },\n",
    "    \"Pandora\": {\n",
    "        \"neut had\": \"dodgerblue\",\n",
    "        \"photon\": \"goldenrod\",\n",
    "    },\n",
    "    \"MLPF\": {\n",
    "        \"neut had\": \"crimson\",\n",
    "        \"photon\": \"darkviolet\",\n",
    "    },\n",
    "}"
   ]
  },
  {
   "cell_type": "code",
   "execution_count": null,
   "id": "40a710a1",
   "metadata": {},
   "outputs": [],
   "source": [
    "plot_helper.plot_eff_fr_purity(eff_fr_colors)"
   ]
  },
  {
   "cell_type": "code",
   "execution_count": null,
   "id": "53184111",
   "metadata": {},
   "outputs": [],
   "source": [
    "plot_helper.plot_event()\n",
    "plot_helper.plot_particles()"
   ]
  }
 ],
 "metadata": {
  "kernelspec": {
   "display_name": "Python 3 (ipykernel)",
   "language": "python",
   "name": "python3"
  }
 },
 "nbformat": 4,
 "nbformat_minor": 5
}
