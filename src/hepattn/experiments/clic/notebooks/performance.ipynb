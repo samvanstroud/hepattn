{
 "cells": [
  {
   "cell_type": "code",
   "execution_count": null,
   "id": "c33f4cdc",
   "metadata": {},
   "outputs": [],
   "source": [
    "%load_ext autoreload\n",
    "%autoreload 2"
   ]
  },
  {
   "cell_type": "code",
   "execution_count": null,
   "id": "a3acae03",
   "metadata": {},
   "outputs": [],
   "source": [
    "import numpy as np\n",
    "\n",
    "from hepattn.experiments.clic.performance.performance import Performance, PerformanceConfig\n",
    "from hepattn.experiments.clic.performance.plot_helper import PlotHelper"
   ]
  },
  {
   "cell_type": "code",
   "execution_count": null,
   "id": "7aa6d151",
   "metadata": {},
   "outputs": [],
   "source": [
    "config_dict = {\n",
    "    \"truth_path\": \"/storage/agrp/dmitrykl/hgpf/hepformer/data/nilo/test_clic_common_raw.root\",\n",
    "    \"networks\": [\n",
    "        {\n",
    "            \"name\": \"mpflow\",\n",
    "            \"path\": \"/storage/agrp/dmitrykl/hgpf/hepattn/src/hepattn/experiments/clic/logs/CLIC_Pflow_FullDiceFocFix_20250613-T142512/ckpts/epoch=159-val_loss=3.51694__test__common.root\",\n",
    "            \"network_type\": \"mpflow_proxy\",\n",
    "            \"ind_threshold\": 0.65,\n",
    "        },\n",
    "        {\n",
    "            \"name\": \"hgpflow\",\n",
    "            \"path\": \"/storage/agrp/nilotpal/HGPFlow_v2/experiments/hgpflow_v2/clicxminixbig1x2xs2xxxds7kirm1yo/inference/ee_qq_new/pred_test_p8_ee_qq_ecm380_20k_seg_bw0.3_nocut_merged.root\",\n",
    "            \"network_type\": \"hgpflow_proxy\",\n",
    "            \"ind_threshold\": 0.65,\n",
    "        },\n",
    "        {\n",
    "            \"name\": \"mlpf\",\n",
    "            \"path\": \"/srv01/agrp/dmitrykl/projects/mlpf/particleflow/experiments/pyg-clic-my_20250726_155449_087474/test/preds_common_checkpoint-21-2.657597/batch_size\",\n",
    "            \"network_type\": \"mlpf\",\n",
    "        },\n",
    "    ],\n",
    "}"
   ]
  },
  {
   "cell_type": "code",
   "execution_count": null,
   "id": "5ff2da59",
   "metadata": {},
   "outputs": [],
   "source": [
    "config = PerformanceConfig.from_dict(config_dict)"
   ]
  },
  {
   "cell_type": "code",
   "execution_count": null,
   "id": "cfe05f26",
   "metadata": {},
   "outputs": [],
   "source": [
    "perf_obj = Performance(config)"
   ]
  },
  {
   "cell_type": "code",
   "execution_count": null,
   "id": "e7243c70",
   "metadata": {},
   "outputs": [],
   "source": [
    "perf_obj.reorder_and_find_intersection()"
   ]
  },
  {
   "cell_type": "code",
   "execution_count": null,
   "id": "ac1f1d02",
   "metadata": {},
   "outputs": [],
   "source": [
    "perf_obj.compute_jets(n_procs=20)"
   ]
  },
  {
   "cell_type": "code",
   "execution_count": null,
   "id": "3acac71c",
   "metadata": {},
   "outputs": [],
   "source": [
    "perf_obj.hung_match_jets()\n",
    "perf_obj.compute_event_features()\n",
    "perf_obj.compute_jet_res_features(dr_cut=0.1, leading_n_jets=2, pt_min=10)"
   ]
  },
  {
   "cell_type": "code",
   "execution_count": null,
   "id": "2976404e",
   "metadata": {},
   "outputs": [],
   "source": [
    "from collections import defaultdict\n",
    "\n",
    "\n",
    "def default_style_dict():\n",
    "    return {\n",
    "        \"histtype\": \"step\",\n",
    "        \"linewidth\": 1,\n",
    "    }\n",
    "\n",
    "\n",
    "style_dict = defaultdict(default_style_dict)\n",
    "style_dict[\"pandora\"] = {\n",
    "    \"color\": \"gray\",\n",
    "    \"alpha\": 0.5,\n",
    "    \"histtype\": \"stepfilled\",\n",
    "}"
   ]
  },
  {
   "cell_type": "code",
   "execution_count": null,
   "id": "8e18236b",
   "metadata": {},
   "outputs": [],
   "source": [
    "plot_helper = PlotHelper(perf_obj, style_dict=style_dict)"
   ]
  },
  {
   "cell_type": "code",
   "execution_count": null,
   "id": "134eaac8",
   "metadata": {},
   "outputs": [],
   "source": [
    "fig = plot_helper.plot_jet_residuals()"
   ]
  },
  {
   "cell_type": "code",
   "execution_count": null,
   "id": "1ee5b170",
   "metadata": {},
   "outputs": [],
   "source": [
    "fig = plot_helper.plot_evt_res()"
   ]
  },
  {
   "cell_type": "code",
   "execution_count": null,
   "id": "ec536798",
   "metadata": {},
   "outputs": [],
   "source": [
    "pt_bins = np.array([0, 20, 40, 60, 80, 100, 120, 140, 160, 180, 200])"
   ]
  },
  {
   "cell_type": "code",
   "execution_count": null,
   "id": "78dcae6c",
   "metadata": {},
   "outputs": [],
   "source": [
    "fig = plot_helper.plot_jet_res_boxplot(bins=pt_bins)"
   ]
  },
  {
   "cell_type": "code",
   "execution_count": null,
   "id": "8c9b01d9",
   "metadata": {},
   "outputs": [],
   "source": [
    "fig = plot_helper.plot_jet_response(pt_bins=pt_bins, use_energy=True)"
   ]
  },
  {
   "cell_type": "code",
   "execution_count": null,
   "id": "1184f9de",
   "metadata": {},
   "outputs": [],
   "source": [
    "perf_obj.hung_match_particles(flatten=True, return_unmatched=True)"
   ]
  },
  {
   "cell_type": "code",
   "execution_count": null,
   "id": "3d3bedc2",
   "metadata": {},
   "outputs": [],
   "source": [
    "qs = {\"Charged\": {\"pt\": 90, \"eta\": 80, \"phi\": 80}, \"Neutral\": {\"pt\": 90, \"eta\": 80, \"phi\": 80}}\n",
    "fig = plot_helper.plot_residuals(pt_relative=True, log_y=True, qs=qs)"
   ]
  },
  {
   "cell_type": "code",
   "execution_count": null,
   "id": "bef823ea",
   "metadata": {},
   "outputs": [],
   "source": [
    "qs = {\"Neutral hadron\": {\"pt\": 98, \"eta\": 75, \"phi\": 75}, \"Photon\": {\"pt\": 99, \"eta\": 90, \"phi\": 90}}\n",
    "fig = plot_helper.plot_residuals_neutrals(pt_relative=True, log_y=True, qs=qs)"
   ]
  },
  {
   "cell_type": "code",
   "execution_count": null,
   "id": "06cd9160",
   "metadata": {},
   "outputs": [],
   "source": [
    "eff_fr_colors = {\n",
    "    \"mpflow\": {\n",
    "        \"neut had\": \"mediumseagreen\",\n",
    "        \"photon\": \"tomato\",\n",
    "    },\n",
    "    \"hgpflow\": {\n",
    "        \"neut had\": \"steelblue\",\n",
    "        \"photon\": \"darkorange\",\n",
    "    },\n",
    "    \"pandora\": {\n",
    "        \"neut had\": \"dodgerblue\",\n",
    "        \"photon\": \"goldenrod\",\n",
    "    },\n",
    "    \"mlpf\": {\n",
    "        \"neut had\": \"crimson\",\n",
    "        \"photon\": \"darkviolet\",\n",
    "    },\n",
    "}"
   ]
  },
  {
   "cell_type": "code",
   "execution_count": null,
   "id": "40a710a1",
   "metadata": {},
   "outputs": [],
   "source": [
    "plot_helper.plot_eff_fr_purity(eff_fr_colors)"
   ]
  },
  {
   "cell_type": "code",
   "execution_count": null,
   "id": "53184111",
   "metadata": {},
   "outputs": [],
   "source": []
  }
 ],
 "metadata": {
  "kernelspec": {
   "display_name": "Python 3",
   "language": "python",
   "name": "python3"
  },
  "language_info": {
   "codemirror_mode": {
    "name": "ipython",
    "version": 3
   },
   "file_extension": ".py",
   "mimetype": "text/x-python",
   "name": "python",
   "nbconvert_exporter": "python",
   "pygments_lexer": "ipython3",
   "version": "3.11.9"
  }
 },
 "nbformat": 4,
 "nbformat_minor": 5
}
