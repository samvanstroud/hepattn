{
 "cells": [
  {
   "cell_type": "code",
   "execution_count": null,
   "id": "9fea26bd-c8ef-4a8c-bef1-7e30114057c5",
   "metadata": {},
   "outputs": [],
   "source": [
    "import math\n",
    "import pathlib\n",
    "\n",
    "import h5py\n",
    "import numpy as np\n",
    "import yaml\n",
    "from matplotlib import pyplot as plt\n",
    "from matplotlib.lines import Line2D\n",
    "\n",
    "plt.rcParams[\"figure.dpi\"] = 400\n",
    "# plt.rcParams[\"text.usetex\"] = True\n",
    "plt.rcParams[\"text.usetex\"] = False\n",
    "# disabled due to missing font in texlive on the Nikhef clusters\n",
    "plt.rcParams[\"font.family\"] = \"serif\"\n",
    "plt.rcParams[\"figure.constrained_layout.use\"] = True"
   ]
  },
  {
   "cell_type": "markdown",
   "id": "8d3e20bc-98ec-4e53-9915-4fea0e56025d",
   "metadata": {},
   "source": [
    "# Evaluation file structure"
   ]
  },
  {
   "cell_type": "code",
   "execution_count": null,
   "id": "01bf2d2e-0b4d-4694-811b-b3a74e1f5e5a",
   "metadata": {},
   "outputs": [],
   "source": [
    "hdf_dir = \"/data/atlas/users/slin/myHepattn/hepattn/src/hepattn/experiments/trackml/logs/TRK-v0-full_20250906-T205842/ckpts/epoch=029-val_loss=50.09092_test_eval.h5\""
   ]
  },
  {
   "cell_type": "code",
   "execution_count": null,
   "id": "acdc0373-53a7-44fd-a3d9-314a65a781cb",
   "metadata": {
    "scrolled": true
   },
   "outputs": [],
   "source": [
    "f = h5py.File(hdf_dir, \"r\")\n",
    "for key in f:\n",
    "    print(f\"Key: {key}  \\tType: {type(f[key])}\")"
   ]
  },
  {
   "cell_type": "code",
   "execution_count": null,
   "id": "7871b865-729d-41dc-94ce-94619047bdae",
   "metadata": {},
   "outputs": [],
   "source": [
    "group_key = list(f.keys())[2]\n",
    "k = list(f[group_key])\n",
    "for j in k:\n",
    "    print(j)\n",
    "    print(\"\\t\", f[group_key][j].keys())"
   ]
  },
  {
   "cell_type": "markdown",
   "id": "39b000b4-16b0-4f7d-a6ee-60beef55538e",
   "metadata": {},
   "source": [
    "## `inputs` group"
   ]
  },
  {
   "cell_type": "code",
   "execution_count": null,
   "id": "02f92e5c-4cd6-4b24-9cc7-508d06b39eec",
   "metadata": {},
   "outputs": [],
   "source": [
    "print(\"\\ninputs\")\n",
    "print(\"\\t\", list(f[group_key][\"inputs\"]))\n",
    "\n",
    "print(\"\\n============================\")\n",
    "\n",
    "print(\"\\ninputs/hit_eta\")\n",
    "print(\"\\t\", list(f[group_key][\"inputs\"][\"hit_eta\"]))"
   ]
  },
  {
   "cell_type": "markdown",
   "id": "6c408e4f-21d5-426d-ac0c-67c2a945a39d",
   "metadata": {},
   "source": [
    "## `outputs` group"
   ]
  },
  {
   "cell_type": "code",
   "execution_count": null,
   "id": "00e468bb-8795-4e6d-b5aa-76f9df0a6d2b",
   "metadata": {},
   "outputs": [],
   "source": [
    "print(\"\\noutputs/final/\")\n",
    "print(\"\\t\", list(f[group_key][\"outputs\"][\"final\"]))\n",
    "\n",
    "print(\"\\n============================\")\n",
    "\n",
    "print(\"\\noutputs/final/track_hit_valid/\")\n",
    "print(\"\\t\", list(f[group_key][\"outputs\"][\"final\"][\"track_hit_valid\"]))\n",
    "print(\"\\noutputs/final/track_hit_valid/track_hit_logit\")\n",
    "print(\"\\t\", list(f[group_key][\"outputs\"][\"final\"][\"track_hit_valid\"][\"track_hit_logit\"]))\n",
    "\n",
    "if \"track_regr\" in list(f[group_key][\"outputs\"][\"final\"]):\n",
    "    print(\"\\n============================\")\n",
    "\n",
    "    print(\"\\noutputs/final/track_regr/\")\n",
    "    print(\"\\t\", list(f[group_key][\"outputs\"][\"final\"][\"track_regr\"]))\n",
    "    print(\"\\noutputs/final/track_regr/track_regr\")\n",
    "    print(\"\\t\", list(f[group_key][\"outputs\"][\"final\"][\"track_regr\"][\"track_regr\"]))\n",
    "\n",
    "print(\"\\n============================\")\n",
    "\n",
    "print(\"\\noutputs/final/track_valid/\")\n",
    "print(\"\\t\", list(f[group_key][\"outputs\"][\"final\"][\"track_valid\"]))\n",
    "print(\"\\noutputs/final/track_hit_valid/track_hit_logit\")\n",
    "print(\"\\t\", list(f[group_key][\"outputs\"][\"final\"][\"track_valid\"][\"track_logit\"]))"
   ]
  },
  {
   "cell_type": "markdown",
   "id": "3b3d810a-9238-44d0-be90-4cc8313ec100",
   "metadata": {},
   "source": [
    "## `preds` group"
   ]
  },
  {
   "cell_type": "code",
   "execution_count": null,
   "id": "83b758df-2ff8-4b5b-b052-304b5de5d973",
   "metadata": {},
   "outputs": [],
   "source": [
    "print(\"\\npreds/final/\")\n",
    "print(\"\\t\", list(f[group_key][\"preds\"][\"final\"]))\n",
    "print(\"\\n============================\")\n",
    "\n",
    "print(\"\\npreds/final/track_hit_valid/\")\n",
    "print(\"\\t\", list(f[group_key][\"preds\"][\"final\"][\"track_hit_valid\"]))\n",
    "print(\"\\npreds/final/track_hit_valid/track_hit_valid\")\n",
    "print(\"\\t\", list(f[group_key][\"preds\"][\"final\"][\"track_hit_valid\"][\"track_hit_valid\"]))\n",
    "\n",
    "if \"track_regr\" in list(f[group_key][\"preds\"][\"final\"]):\n",
    "    print(\"\\n============================\")\n",
    "\n",
    "    print(\"\\npreds/final/track_regr/\")\n",
    "    print(\"\\t\", list(f[group_key][\"preds\"][\"final\"][\"track_regr\"]))\n",
    "    print(\"\\npreds/final/track_regr/track_px\")\n",
    "    print(\"\\t\", list(f[group_key][\"preds\"][\"final\"][\"track_regr\"][\"track_px\"]))\n",
    "    print(\"\\npreds/final/track_regr/track_py\")\n",
    "    print(\"\\t\", list(f[group_key][\"preds\"][\"final\"][\"track_regr\"][\"track_py\"]))\n",
    "    print(\"\\npreds/final/track_regr/track_pz\")\n",
    "    print(\"\\t\", list(f[group_key][\"preds\"][\"final\"][\"track_regr\"][\"track_pz\"]))\n",
    "    print(\"\\npreds/final/track_regr/track_vx\")\n",
    "    print(\"\\t\", list(f[group_key][\"preds\"][\"final\"][\"track_regr\"][\"track_vz\"]))\n",
    "\n",
    "print(\"\\n============================\")\n",
    "\n",
    "print(\"\\npreds/final/track_valid/\")\n",
    "print(\"\\t\", list(f[group_key][\"preds\"][\"final\"][\"track_valid\"]))\n",
    "print(\"\\npreds/final/track_valid/track_valid\")\n",
    "print(\"\\t\", list(f[group_key][\"preds\"][\"final\"][\"track_valid\"][\"track_valid\"]))"
   ]
  },
  {
   "cell_type": "markdown",
   "id": "646fbf8c-42d0-431b-b035-93c20aeee41d",
   "metadata": {},
   "source": [
    "## `targets` group"
   ]
  },
  {
   "cell_type": "code",
   "execution_count": null,
   "id": "b9a83cc3-90a1-46c2-a4f2-efb16c3fe285",
   "metadata": {},
   "outputs": [],
   "source": [
    "print(\"\\ntargets/\")\n",
    "print(\"\\t\", list(f[group_key][\"targets\"]))\n",
    "\n",
    "print(\"\\n============================\")\n",
    "\n",
    "print(\"\\ntargets/hit_on_valid_particle\")\n",
    "print(\"\\t\", list(f[group_key][\"targets\"][\"hit_on_valid_particle\"]))\n",
    "print(\"\\ntargets/hit_valid\")\n",
    "print(\"\\t\", list(f[group_key][\"targets\"][\"hit_valid\"]))\n",
    "print(\"\\ntargets/particle_eta\")\n",
    "print(\"\\t\", list(f[group_key][\"targets\"][\"particle_eta\"]))\n",
    "print(\"\\ntargets/particle_px\")\n",
    "print(\"\\t\", list(f[group_key][\"targets\"][\"particle_pt\"]))\n",
    "print(\"\\ntargets/particle_hit_valid\")\n",
    "print(\"\\t\", list(f[group_key][\"targets\"][\"particle_hit_valid\"]))\n",
    "print(\"\\ntargets/particle_valid\")\n",
    "print(\"\\t\", list(f[group_key][\"targets\"][\"particle_valid\"]))"
   ]
  },
  {
   "cell_type": "markdown",
   "id": "12e31965-7d6c-438c-85df-77c23d1f97b7",
   "metadata": {},
   "source": [
    "# Tracking model evaluation"
   ]
  },
  {
   "cell_type": "markdown",
   "id": "c410b175-b131-44ab-9267-5fcec856ef7c",
   "metadata": {},
   "source": [
    "## Plot parameters"
   ]
  },
  {
   "cell_type": "code",
   "execution_count": null,
   "id": "bd82a343-8f37-4d0c-a223-d44f34457560",
   "metadata": {},
   "outputs": [],
   "source": [
    "training_colours = {\n",
    "    \"600 MeV\": \"mediumvioletred\",\n",
    "    \"750 MeV\": \"cornflowerblue\",\n",
    "    # \"1 GeV\": \"mediumseagreen\",  # |eta| < 2.5\n",
    "    \"0.9 GeV\": \"mediumseagreen\",  # |eta| < 4.0\n",
    "}\n",
    "\n",
    "qty_bins = {\n",
    "    \"pt\": np.array([0.6, 0.75, 1.0, 1.5, 2, 3, 4, 6, 10]),\n",
    "    # \"eta\": np.array([-2.5, -2, -1.5, -1, -0.5, 0, 0.5, 1, 1.5, 2, 2.5]),\n",
    "    \"eta\": np.array([-4, -3.5, -3, -2.5, -2, -1.5, -1, -0.5, 0, 0.5, 1, 1.5, 2, 2.5, 3, 3.5, 4]),\n",
    "    \"phi\": np.array([-math.pi, -2.36, -1.57, -0.79, 0, 0.79, 1.57, 2.36, math.pi]),\n",
    "    \"vz\": np.array([-100, -50, -20, -10, 0, 10, 20, 50, 100]),\n",
    "}\n",
    "\n",
    "qty_symbols = {\"pt\": \"p_\\\\mathrm{T}\", \"eta\": \"\\\\eta\", \"phi\": \"\\\\phi\", \"vz\": \"v_z\"}\n",
    "qty_units = {\"pt\": \"[GeV]\", \"eta\": \"\", \"phi\": \"\", \"vz\": \"[mm]\"}\n",
    "out_dir = \"plots/\""
   ]
  },
  {
   "cell_type": "markdown",
   "id": "ebd1ac0e-f0e6-40bf-af2e-cd90c9276e12",
   "metadata": {},
   "source": [
    "## Retrieve tracking model configuration"
   ]
  },
  {
   "cell_type": "code",
   "execution_count": null,
   "id": "2c6784f2-49fe-4216-95b9-d5c83adc1d95",
   "metadata": {},
   "outputs": [],
   "source": [
    "with pathlib.Path(\"/data/atlas/users/slin/myHepattn/hepattn/src/hepattn/experiments/trackml/configs/tracking.yaml\").open() as f:\n",
    "    fconfig = yaml.safe_load(f)\n",
    "\n",
    "tracking_params = [\"particle_min_pt\", \"particle_max_abs_eta\"]\n",
    "\n",
    "print(\"name: \" + fconfig[\"name\"])\n",
    "for i in tracking_params:\n",
    "    print(\"> \" + i + \"\\t: \", fconfig[\"data\"][i])\n",
    "\n",
    "tracking_configs = {\n",
    "    \"0.9 GeV\": fconfig\n",
    "}\n",
    "\n",
    "tracking_fnames = {\n",
    "    \"0.9 GeV\": \"/data/atlas/users/slin/myHepattn/hepattn/src/hepattn/experiments/trackml/logs/TRK-v0-full_20250906-T205842/ckpts/epoch=029-val_loss=50.09092_test_eval.h5\"\n",
    "}\n",
    "tracking_inputs = [\"hits_\" + tracking_configs[\"0.9 GeV\"][\"data\"][\"inputs\"][\"hit\"][i] for i in range(len(tracking_configs[\"0.9 GeV\"][\"data\"][\"inputs\"][\"hit\"]))]\n",
    "particle_targets = list(tracking_configs[\"0.9 GeV\"][\"data\"][\"targets\"][\"particle\"])\n",
    "print(\"> inputs: \", tracking_inputs)\n",
    "print(\"> particle targets: \", particle_targets)"
   ]
  },
  {
   "cell_type": "markdown",
   "id": "1fad704c-559e-474e-aeb5-fd1b14b283e7",
   "metadata": {},
   "source": [
    "## Load evaluation file"
   ]
  },
  {
   "cell_type": "code",
   "execution_count": null,
   "id": "3f43566d",
   "metadata": {},
   "outputs": [],
   "source": [
    "from plot_utils import binned, hist_plot, profile_plot\n",
    "from track_evaluate import load_events"
   ]
  },
  {
   "cell_type": "code",
   "execution_count": null,
   "id": "00c048a5-f2a9-4aea-9804-2479e042d71b",
   "metadata": {
    "scrolled": true
   },
   "outputs": [],
   "source": [
    "tracking_results = {}\n",
    "num_events = None\n",
    "has_regression = True\n",
    "for name, fname in tracking_fnames.items():\n",
    "    eta_cut = tracking_configs[name][\"data\"][\"particle_max_abs_eta\"]\n",
    "    pt_cut = tracking_configs[name][\"data\"][\"particle_min_pt\"]\n",
    "    tracking_results[name] = load_events(fname=fname, eta_cut=eta_cut, pt_cut=pt_cut, particle_targets=particle_targets, regression=has_regression)"
   ]
  },
  {
   "cell_type": "markdown",
   "id": "735e3e0f-5cf2-4653-8221-8ce5b397dfa9",
   "metadata": {},
   "source": [
    "## Plot metrics"
   ]
  },
  {
   "cell_type": "markdown",
   "id": "c92f2502-e9fb-4ac0-aba8-79176bef777f",
   "metadata": {},
   "source": [
    "### Efficiency and fake rate "
   ]
  },
  {
   "cell_type": "code",
   "execution_count": null,
   "id": "cf011eb9-baed-4864-80d1-b25fe24621de",
   "metadata": {},
   "outputs": [],
   "source": [
    "for qty in particle_targets:\n",
    "    if qty not in {\"pt\", \"eta\", \"phi\", \"vz\"}:\n",
    "        continue\n",
    "\n",
    "    axlist = []\n",
    "    if has_regression:\n",
    "        fig, (ax, ax1) = plt.subplots(ncols=2, figsize=(10, 3), constrained_layout=True)\n",
    "        axlist.extend([ax, ax1])\n",
    "        ax1.set_xlabel(rf\"Track ${qty_symbols[qty]}^\\mathrm{{Reco}}$ {qty_units[qty]}\")\n",
    "        ax1.set_ylabel(\"Fake Rate\")\n",
    "\n",
    "    else:\n",
    "        fig, ax = plt.subplots(ncols=1, figsize=(5, 3), constrained_layout=True)\n",
    "        axlist.append(ax)\n",
    "\n",
    "    for name, (tracks, parts) in tracking_results.items():\n",
    "        \"\"\"Efficiency plots\"\"\"\n",
    "        reconstructable = parts[\"reconstructable\"]\n",
    "        # double majority\n",
    "        bin_count, bin_error = binned(tracks[\"eff_dm\"][reconstructable], parts[\"particle_\" + qty][reconstructable], qty_bins[qty], underflow=True, overflow=True, binomial=False)\n",
    "        profile_plot(bin_count, bin_error, qty_bins[qty], axes=ax, colour=training_colours[name], ls=\"solid\")\n",
    "        # perfect\n",
    "        bin_count, bin_error = binned(tracks[\"eff_perfect\"][reconstructable], parts[\"particle_\" + qty][reconstructable], qty_bins[qty], underflow=True, overflow=True, binomial=False)\n",
    "        profile_plot(bin_count, bin_error, qty_bins[qty], axes=ax, colour=training_colours[name], ls=\"dotted\")\n",
    "        if \"track_\" + qty in tracks.columns:\n",
    "            \"\"\"Fake rate plots\"\"\"\n",
    "            reconstructable = tracks[\"reconstructable\"]\n",
    "            # fake rate\n",
    "            fakes = (~tracks[\"eff_dm\"]) & (~tracks[\"duplicate\"])\n",
    "            bin_count, bin_error = binned(fakes[reconstructable], tracks[\"track_\" + qty][reconstructable], qty_bins[qty], underflow=True, overflow=True, binomial=False)\n",
    "            profile_plot(bin_count, bin_error, qty_bins[qty], axes=ax1, colour=training_colours[name], ls=\"solid\")\n",
    "            # duplicate\n",
    "            bin_count, bin_error = binned(tracks[\"duplicate\"][reconstructable], tracks[\"track_\" + qty][reconstructable], qty_bins[qty], underflow=True, overflow=True, binomial=False)\n",
    "            profile_plot(bin_count, bin_error, qty_bins[qty], axes=ax1, colour=training_colours[name], ls=\"dotted\")\n",
    "\n",
    "    # custom legends\n",
    "    legend_elements_0 = [Line2D([0], [0], color=training_colours[name], label=training) for training in tracking_results]\n",
    "    leg1_0 = ax.legend(handles=legend_elements_0, frameon=False, loc=\"upper left\")\n",
    "    ax.add_artist(leg1_0)\n",
    "\n",
    "    legend_elements_eff = [Line2D([0], [0], color=\"black\", label=\"DM\"), Line2D([0], [0], color=\"black\", ls=\"dotted\", label=\"Perfect\")]\n",
    "    leg2_0 = ax.legend(handles=legend_elements_eff, frameon=False, loc=\"upper right\")\n",
    "    ax.add_artist(leg2_0)\n",
    "    if \"track_\" + qty in tracks.columns:\n",
    "        leg1_1 = ax1.legend(handles=legend_elements_0, frameon=False, loc=\"upper left\")\n",
    "        ax1.add_artist(leg1_1)\n",
    "        legend_elements_fake = [Line2D([0], [0], color=\"black\", label=\"Fake\"), Line2D([0], [0], color=\"black\", ls=\"dotted\", label=\"Duplicate\")]\n",
    "        leg2_1 = ax1.legend(handles=legend_elements_fake, frameon=False, loc=\"upper right\")\n",
    "        ax1.add_artist(leg2_1)\n",
    "\n",
    "    # axis ranges\n",
    "    ax.set_ylim(0.0, 1.04)\n",
    "    ax.set_ylabel(\"Efficiency\")\n",
    "    ax.set_xlabel(rf\"Particle ${qty_symbols[qty]}^\\mathrm{{True}}$ {qty_units[qty]}\")\n",
    "\n",
    "    for i in axlist:\n",
    "        i.grid(zorder=0, alpha=0.25, linestyle=\"--\")\n",
    "        if qty == \"pt\":\n",
    "            i.set_xlim([0, 10.5])\n",
    "            i.set_xticks(np.arange(start=2, stop=11, step=2))\n",
    "            # ax1.set_ylim(0.0, 0.03)\n",
    "        if qty == \"eta\":\n",
    "            i.set_xlim([-4.5, 4.5])\n",
    "            i.set_xticks(np.arange(start=-4, stop=4.5, step=1))\n",
    "\n",
    "        if qty == \"phi\":\n",
    "            i.set_xlim([-3.5, 3.5])\n",
    "            i.set_xticks(np.arange(start=-3, stop=3.5, step=1))\n",
    "            # ax1.set_ylim(0.0, 0.02)\n",
    "        if qty == \"vz\":\n",
    "            i.set_xlim([-112, 112])\n",
    "            i.set_xticks(np.arange(start=-100, stop=110, step=25))\n",
    "            # ax1.set_ylim(0.0, 0.02)\n",
    "\n",
    "    fig.savefig(out_dir + f\"{qty}_eff_fr.pdf\")\n",
    "    plt.show()\n"
   ]
  },
  {
   "cell_type": "markdown",
   "id": "23ee940d-c126-40be-bfa2-234d0564371e",
   "metadata": {},
   "source": [
    "### Regression residual plots"
   ]
  },
  {
   "cell_type": "code",
   "execution_count": null,
   "id": "7fbf14ba-c904-413b-adb1-99d25d8e48ee",
   "metadata": {},
   "outputs": [],
   "source": [
    "nbins = 55\n",
    "qty_res_bins = {\"pt\": np.linspace(-1, 1, nbins),\n",
    "                \"eta\": np.linspace(-0.1, 0.1, nbins),\n",
    "                \"phi\": np.linspace(-0.1, 0.1, nbins),\n",
    "                \"vz\": np.linspace(-15, 15, nbins)\n",
    "               }\n",
    "fig, ax = plt.subplots(nrows=2, ncols=2, constrained_layout=True)\n",
    "fig.set_size_inches(10, 4)\n",
    "ax = ax.flatten()\n",
    "\n",
    "for i, qty in enumerate([\"pt\", \"eta\", \"phi\", \"vz\"]):\n",
    "    labels = []\n",
    "    colours = []\n",
    "    for name, (tracks, parts) in tracking_results.items():\n",
    "        bins = qty_res_bins[qty]\n",
    "        colour = training_colours[name]\n",
    "        # track physicsal quantity regression predicted value\n",
    "        tracks_qty = tracks[\"track_\" + qty][tracks[\"eff_dm\"] & parts[\"reconstructable\"]]\n",
    "        # particle physical quantity true value\n",
    "        parts_qty = parts[\"particle_\" + qty][tracks[\"eff_dm\"] & parts[\"reconstructable\"]]\n",
    "        res = tracks_qty - parts_qty\n",
    "        label = hist_plot(xs=res, bins=bins, xrange=(bins[0], bins[-1]), name=name, axes=ax[i], colour=colour)\n",
    "        labels.append(label)\n",
    "        colours.append(colour)\n",
    "\n",
    "    ax[i].grid(zorder=0, alpha=0.25, linestyle=\"--\")\n",
    "    ax[i].set_xlabel(rf\"${qty_symbols[qty]}^\\mathrm{{Reco}} - {qty_symbols[qty]}^\\mathrm{{True}}$ {qty_units[qty]}\")\n",
    "    ax[i].set_ylabel(\"Density\")\n",
    "\n",
    "    ticks = None\n",
    "    if qty in {\"eta\", \"phi\"}:\n",
    "        ticks = np.arange(-0.1, 0.11, 0.05).round(2)\n",
    "    if qty == \"pt\":\n",
    "        ticks = np.arange(-1, 1.1, 0.5).round(2)\n",
    "    if qty == \"vz\":\n",
    "        ticks = np.arange(-15, 16, 5).round(2)\n",
    "\n",
    "    ax[i].set_xticks(ticks)\n",
    "    ax[i].set_xticklabels(ticks)\n",
    "    legend_elements = [Line2D([0], [0], color=colours[j], label=labels[j]) for j in range(len(labels))]\n",
    "    ax[i].legend(handles=legend_elements, frameon=False, loc=\"upper left\", fontsize=8)\n",
    "\n",
    "fig.savefig(out_dir + \"regr_residuals.pdf\")\n",
    "fig.show()"
   ]
  },
  {
   "cell_type": "markdown",
   "id": "2346ec7e",
   "metadata": {},
   "source": [
    "### pt response vs particle pt plot"
   ]
  },
  {
   "cell_type": "code",
   "execution_count": null,
   "id": "d624cafd-8bb7-45c7-bee5-865dcd37abdd",
   "metadata": {},
   "outputs": [],
   "source": [
    "# pt residual vs eta\n",
    "fig, ax = plt.subplots(constrained_layout=True)\n",
    "fig.set_size_inches(5, 3)\n",
    "\n",
    "qty = \"pt\"\n",
    "vs_qty = \"pt\"\n",
    "nbins = 55\n",
    "\n",
    "for name, (tracks, parts) in tracking_results.items():\n",
    "    bins = qty_bins[vs_qty]\n",
    "    bin_centres = (qty_bins[qty][:-1] + qty_bins[qty][1:]) / 2\n",
    "    bin_widths = (qty_bins[qty][1:] - qty_bins[qty][:-1]) / 2\n",
    "    tracks_eff_qty = tracks[\"track_\" + vs_qty][tracks[\"eff_dm\"]]\n",
    "    parts_eff_qty = parts[\"particle_\" + vs_qty][tracks[\"eff_dm\"]]\n",
    "    # ys = (tracks_eff[f\"matched_{qty}\"] - tracks_eff[qty]).abs()\n",
    "    ys = tracks_eff_qty / parts_eff_qty\n",
    "    ys, ys_err = binned(ys, parts_eff_qty, bins, underflow=True, overflow=True, binomial=False)\n",
    "    profile_plot(ys, ys_err, bins, axes=ax, colour=training_colours[name], ls=\"solid\")\n",
    "\n",
    "# ax.set_xlabel(r\"Particle $\\eta^\\mathrm{True}$\")\n",
    "ax.set_xlabel(rf\"${qty_symbols[qty]}^\\mathrm{{True}}$ {qty_units[qty]}\")\n",
    "# ax.set_xlabel(rf\"Particle $p_\\mathrm{{T}}^\\mathrm{{True}}$ [GeV]\")\n",
    "# ax.set_ylabel(rf\"$|p_\\mathrm{{T}}^\\mathrm{{Reco}} - p_\\mathrm{{T}}^\\mathrm{{True}}|/ p_\\mathrm{{T}}^\\mathrm{{True}}$ [GeV]\")\n",
    "ax.set_ylabel(rf\"${qty_symbols[qty]}^\\mathrm{{Reco}}/{qty_symbols[qty]}^\\mathrm{{True}}$\")\n",
    "# fig.savefig(out_dir + \"regr_norm_residuals_vs_pt.pdf\")\n",
    "plt.show()"
   ]
  },
  {
   "cell_type": "markdown",
   "id": "790a81ad",
   "metadata": {},
   "source": [
    "### pt response vs particle pt and assigned hits"
   ]
  },
  {
   "cell_type": "code",
   "execution_count": null,
   "id": "3a90517e-0d08-4d56-b6a6-edf64be4adb7",
   "metadata": {},
   "outputs": [],
   "source": [
    "# make plots for the pt response vs the pt of the particle, and also vs the number of hits on the track\n",
    "fig, ax = plt.subplots(nrows=1, ncols=2, constrained_layout=True)\n",
    "fig.set_size_inches(10, 3)\n",
    "qty = \"pt\"\n",
    "for name, (tracks, parts) in tracking_results.items():\n",
    "\n",
    "    label = name\n",
    "    colour = training_colours[name]\n",
    "    parts_eff_qty = parts[\"particle_\" + qty][tracks[\"eff_dm\"]]\n",
    "    tracks_eff_qty = tracks[\"track_\" + qty][tracks[\"eff_dm\"]]\n",
    "    n_assigned = tracks[\"n_pred_hits\"][tracks[\"eff_dm\"]]\n",
    "    response = tracks_eff_qty / parts_eff_qty\n",
    "    # response = np.clip(response, 0.5, 1.5)\n",
    "\n",
    "    # make hist\n",
    "    bins = qty_bins[qty]\n",
    "    b = (bins[:-1] + bins[1:]) / 2\n",
    "    b_err = (bins[1:] - bins[:-1]) / 2\n",
    "    ys, ys_err = binned(response, parts_eff_qty, bins, underflow=True, overflow=True, binomial=False)\n",
    "    ax[0].errorbar(b, ys, yerr=None, xerr=b_err, color=colour, fmt=\".\", label=label, marker=\"s\", markersize=2.0)\n",
    "    ax[0].errorbar(b, ys, yerr=ys_err, xerr=None, color=colour, fmt=\".\", marker=\"none\", capsize=5.0, markeredgewidth=1.0)\n",
    "\n",
    "    bins = np.linspace(3, 10, 8)\n",
    "    b = (bins[:-1] + bins[1:]) / 2\n",
    "    b_err = (bins[1:] - bins[:-1]) / 2\n",
    "    ys, ys_err = binned(response, n_assigned, bins, binomial=False)\n",
    "    ax[1].errorbar(b, ys, yerr=None, xerr=b_err, color=colour, fmt=\".\", label=label, marker=\"s\", markersize=2.0)\n",
    "    ax[1].errorbar(b, ys, yerr=ys_err, xerr=None, color=colour, fmt=\".\", marker=\"none\", capsize=5.0, markeredgewidth=1.0)\n",
    "\n",
    "ax[0].set_xlabel(rf\"${qty_symbols[qty]}^\\mathrm{{True}}$ {qty_units[qty]}\")\n",
    "ax[0].set_ylabel(rf\"${qty_symbols[qty]}^\\mathrm{{Reco}}/{qty_symbols[qty]}^\\mathrm{{True}}$\")\n",
    "ax[0].grid(zorder=0, alpha=0.25, linestyle=\"--\")\n",
    "\n",
    "ax[1].set_xlabel(rf\"${qty_symbols[qty]}^\\mathrm{{True}}$ {qty_units[qty]}\")\n",
    "ax[1].set_ylabel(r\"Number of assigned hits\")\n",
    "ax[1].grid(zorder=0, alpha=0.25, linestyle=\"--\")\n",
    "\n",
    "fig.show()"
   ]
  },
  {
   "cell_type": "code",
   "execution_count": null,
   "id": "4dce0c53-4037-4800-b9f2-28348548caea",
   "metadata": {},
   "outputs": [],
   "source": [
    "# ----------------------------------------------------\n",
    "# Efficiency and fake rate numbers\n",
    "# ----------------------------------------------------\n",
    "for name, (tracks, parts) in tracking_results.items():\n",
    "    print(name)\n",
    "    tgts = parts[parts.reconstructable]\n",
    "\n",
    "    # compute high pt integrated metrics\n",
    "    high_pt_parts = tgts[tgts.particle_pt > 1.0]\n",
    "    high_pt_parts_900 = tgts[tgts.particle_pt > 0.9]\n",
    "    high_pt_eff = high_pt_parts.eff_dm.mean()\n",
    "    high_pt_eff_900 = high_pt_parts_900.eff_dm.mean()\n",
    "    high_pt_tracks = tracks[tracks.track_pt > 1.0]\n",
    "    high_pt_tracks_900 = tracks[tracks.track_pt > 0.9]\n",
    "    high_pt_fr = 1 - (high_pt_tracks.eff_dm & ~tracks.duplicate).mean()\n",
    "    high_pt_fr_900 = 1 - (high_pt_tracks_900.eff_dm & ~tracks.duplicate).mean()\n",
    "\n",
    "    # compute the overall fake rate\n",
    "    integrated_fr = (~tracks.eff_dm & ~tracks.duplicate).mean()\n",
    "\n",
    "    # print summary\n",
    "    print(f\"N events: {100 if num_events is None else num_events}, N particles: {len(parts)}, N tracks: {len(tracks)}\")\n",
    "    print(f\"DM Integrated efficiency: {tgts.eff_dm.mean():.1%}\")\n",
    "    print(f\"DM Efficiency for pT > 1.0 GeV: {high_pt_eff:.1%}\")\n",
    "    print(f\"DM Efficiency for pT > 0.9 GeV: {high_pt_eff_900:.1%}\")\n",
    "    print()\n",
    "    print(f\"DM Integrated fake rate: {integrated_fr:.1%}\")\n",
    "    print(f\"DM Fake rate for pT > 1.0 GeV: {high_pt_fr:.1%}\")\n",
    "    print(f\"DM Fake rate for pT > 0.9 GeV: {high_pt_fr_900:.1%}\")\n",
    "    print()\n",
    "    print(f\"Perfect integrated Efficiency: {tgts.eff_perfect.mean():.1%}\")\n",
    "    print(f\"Perfect Efficiency for pT > 1.0 GeV: {high_pt_parts.eff_perfect.mean():.1%}\")\n",
    "    print(f\"Perfect Efficiency for pT > 0.9 GeV: {high_pt_parts_900.eff_perfect.mean():.1%}\")\n",
    "    print()\n",
    "    print(f\"Duplicate rate: {tracks.duplicate.mean():.1%}\")\n",
    "    print(\"\\n\")"
   ]
  },
  {
   "cell_type": "code",
   "execution_count": null,
   "id": "bd989f0f-645c-4ece-b84b-078a27ef70d4",
   "metadata": {},
   "outputs": [],
   "source": []
  }
 ],
 "metadata": {
  "kernelspec": {
   "display_name": "myEnv",
   "language": "python",
   "name": "python3"
  },
  "language_info": {
   "codemirror_mode": {
    "name": "ipython",
    "version": 3
   },
   "file_extension": ".py",
   "mimetype": "text/x-python",
   "name": "python",
   "nbconvert_exporter": "python",
   "pygments_lexer": "ipython3",
   "version": "3.11.13"
  }
 },
 "nbformat": 4,
 "nbformat_minor": 5
}
