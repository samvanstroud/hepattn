{
 "cells": [
  {
   "cell_type": "code",
   "execution_count": null,
   "id": "52cbc300-1afe-4746-80d4-ec3d00b64656",
   "metadata": {},
   "outputs": [],
   "source": [
    "import h5py\n",
    "import matplotlib as mpl\n",
    "from matplotlib import pyplot as plt\n",
    "from matplotlib.lines import Line2D\n",
    "import numpy as np\n",
    "import pandas as pd\n",
    "import yaml\n",
    "\n",
    "plt.rcParams[\"figure.dpi\"] = 400\n",
    "# plt.rcParams[\"text.usetex\"] = True\n",
    "plt.rcParams[\"text.usetex\"] = False\n",
    "# disabled due to missing font in texlive on the Nikhef clusters\n",
    "plt.rcParams[\"font.family\"] = \"serif\"\n",
    "plt.rcParams[\"figure.constrained_layout.use\"] = True"
   ]
  },
  {
   "cell_type": "markdown",
   "id": "555dbad8-81ff-4c1a-9926-362da9a7b8dc",
   "metadata": {},
   "source": [
    "# Evaluation file structure"
   ]
  },
  {
   "cell_type": "code",
   "execution_count": null,
   "id": "dde7be42-86fa-44e0-b8a4-fd9c4876b85f",
   "metadata": {
    "scrolled": true
   },
   "outputs": [],
   "source": [
    "hdf_dir = \"/data/atlas/users/slin/myHepattn/hepattn/src/hepattn/experiments/trackml/logs/HC-v3_20250818-T211321/ckpts/epoch=029-val_loss=0.34545_test_eval.h5\""
   ]
  },
  {
   "cell_type": "code",
   "execution_count": null,
   "id": "b55cfa41-f8bb-4ad4-92b4-867d625b6c03",
   "metadata": {
    "scrolled": true
   },
   "outputs": [],
   "source": [
    "f = h5py.File(hdf_dir, \"r\")\n",
    "for key in f.keys():\n",
    "    print(\"Key: %s  \\tType: %s\" % (key, type(f[key])))"
   ]
  },
  {
   "cell_type": "code",
   "execution_count": null,
   "id": "661b7147-0e55-4e69-9090-0538f81940b7",
   "metadata": {},
   "outputs": [],
   "source": [
    "group_key = list(f.keys())[2]\n",
    "k = list(f[group_key])\n",
    "for j in k:\n",
    "    print(j)\n",
    "    print(\"\\t\", f[group_key][j].keys())"
   ]
  },
  {
   "cell_type": "markdown",
   "id": "4ac00ca4-c61a-4a1f-86fb-312bcd57c875",
   "metadata": {},
   "source": [
    "## `inputs` group"
   ]
  },
  {
   "cell_type": "code",
   "execution_count": null,
   "id": "50721057-1939-4a7c-9625-0bff18402c1a",
   "metadata": {},
   "outputs": [],
   "source": [
    "print(\"\\ninputs\")\n",
    "print(\"\\t\", list(f[group_key][\"inputs\"]))\n",
    "\n",
    "print(\"\\n============================\")\n",
    "\n",
    "print(\"\\ninputs/hit_eta\")\n",
    "print(\"\\t\", list(f[group_key][\"inputs\"][\"hit_eta\"]))"
   ]
  },
  {
   "cell_type": "markdown",
   "id": "e0a0faf4-4428-4cf0-bc3e-26a9e967dca6",
   "metadata": {},
   "source": [
    "## `outputs` group"
   ]
  },
  {
   "cell_type": "code",
   "execution_count": null,
   "id": "d97fcf5f-4ae3-4b75-a646-be9394966509",
   "metadata": {},
   "outputs": [],
   "source": [
    "print(\"\\noutputs/final/\")\n",
    "print(\"\\t\", list(f[group_key][\"outputs\"][\"final\"]))\n",
    "\n",
    "print(\"\\n============================\")\n",
    "\n",
    "print(\"\\noutputs/final/hit_filter/\")\n",
    "print(\"\\t\", list(f[group_key][\"outputs\"][\"final\"][\"hit_filter\"]))\n",
    "print(\"\\noutputs/final/hit_filter/hit_logit\")\n",
    "print(\"\\t\", list(f[group_key][\"outputs\"][\"final\"][\"hit_filter\"][\"hit_logit\"]))\n",
    "\n"
   ]
  },
  {
   "cell_type": "markdown",
   "id": "837aa540-f226-40a3-96b7-ef8ac0d1db42",
   "metadata": {},
   "source": [
    "## `preds` group"
   ]
  },
  {
   "cell_type": "code",
   "execution_count": null,
   "id": "fcd0db23-8b87-4ed4-bb1b-c965f7bf3813",
   "metadata": {},
   "outputs": [],
   "source": [
    "print(\"\\npreds/final/\")\n",
    "print(\"\\t\", list(f[group_key][\"preds\"][\"final\"]))\n",
    "\n",
    "print(\"\\n============================\")\n",
    "\n",
    "print(\"\\npreds/final/hit_filter/\")\n",
    "print(\"\\t\", list(f[group_key][\"preds\"][\"final\"][\"hit_filter\"]))\n",
    "print(\"\\npreds/final/hit_filter/hit_on_valid_particle\")\n",
    "print(\"\\t\", list(f[group_key][\"preds\"][\"final\"][\"hit_filter\"][\"hit_on_valid_particle\"]))\n"
   ]
  },
  {
   "cell_type": "markdown",
   "id": "b34ce388-9981-4f20-b06d-9ebfc2d73a87",
   "metadata": {},
   "source": [
    "## `targets` group"
   ]
  },
  {
   "cell_type": "code",
   "execution_count": null,
   "id": "1dafa00f-491b-4fe1-b0cb-5b3576a0a95d",
   "metadata": {},
   "outputs": [],
   "source": [
    "print(\"\\ntargets/\")\n",
    "print(\"\\t\", list(f[group_key][\"targets\"]))\n",
    "\n",
    "print(\"\\n============================\")\n",
    "\n",
    "print(\"\\ntargets/hit_on_valid_particle\")\n",
    "print(\"\\t\", list(f[group_key][\"targets\"][\"hit_on_valid_particle\"]))\n",
    "print(\"\\ntargets/hit_valid\")\n",
    "print(\"\\t\", list(f[group_key][\"targets\"][\"hit_valid\"]))\n",
    "print(\"\\ntargets/particle_hit_valid\")\n",
    "print(\"\\t\", list(f[group_key][\"targets\"][\"particle_hit_valid\"]))\n",
    "print(\"\\ntargets/particle_pt\")\n",
    "print(\"\\t\", list(f[group_key][\"targets\"][\"particle_pt\"]))\n",
    "print(\"\\ntargets/particle_valid\")\n",
    "print(\"\\t\", list(f[group_key][\"targets\"][\"particle_valid\"]))\n",
    "print(\"\\ntargets/sample_id\")\n",
    "print(\"\\t\", list(f[group_key][\"targets\"][\"sample_id\"]))"
   ]
  },
  {
   "cell_type": "markdown",
   "id": "6cf517f7-5299-466d-bfca-1d2fe6db7bcc",
   "metadata": {},
   "source": [
    "# Filter model evaluation"
   ]
  },
  {
   "cell_type": "markdown",
   "id": "ce0e1848-8e9d-4024-8dc4-092783a20db0",
   "metadata": {},
   "source": [
    "## Plot parameters"
   ]
  },
  {
   "cell_type": "code",
   "execution_count": null,
   "id": "66c7d4c2-7979-482b-8365-970dc1a73bf7",
   "metadata": {},
   "outputs": [],
   "source": [
    "training_colours = {\n",
    "    \"600 MeV\": \"mediumvioletred\",\n",
    "    \"750 MeV\": \"cornflowerblue\",\n",
    "    # \"1 GeV\": \"mediumseagreen\", # |eta| < 2.5\n",
    "    \"0.9 GeV\": \"mediumseagreen\",  # |eta| < 4.0\n",
    "}\n",
    "\n",
    "qty_bins = {\n",
    "    \"pt\": np.array([0.6, 0.75, 1.0, 1.5, 2, 3, 4, 6, 10]),\n",
    "    # \"eta\": np.array([-2.5, -2, -1.5, -1, -0.5, 0, 0.5, 1, 1.5, 2, 2.5]),\n",
    "    \"eta\": np.array([-4, -3.5, -3, -2.5, -2, -1.5, -1, -0.5, 0, 0.5, 1, 1.5, 2, 2.5, 3, 3.5, 4]),\n",
    "    \"phi\": np.array([-3.14, -2.36, -1.57, -0.79, 0, 0.79, 1.57, 2.36, 3.14]),\n",
    "    \"vz\": np.array([-100, -50, -20, -10, 0, 10, 20, 50, 100]),\n",
    "}\n",
    "\n",
    "qty_symbols = {\"pt\": \"p_\\\\mathrm{T}\", \"eta\": \"\\\\eta\", \"phi\": \"\\\\phi\", \"vz\": \"v_z\"}\n",
    "qty_units = {\"pt\": \"[GeV]\", \"eta\": \"\", \"phi\": \"\", \"vz\": \"[mm]\"}\n",
    "out_dir = \"plots\""
   ]
  },
  {
   "cell_type": "markdown",
   "id": "de714528-7f61-447e-9810-894a574ff3d9",
   "metadata": {},
   "source": [
    "## Retrieve filtering model configuration"
   ]
  },
  {
   "cell_type": "code",
   "execution_count": null,
   "id": "ae3e6ad1-001a-43ba-bf27-a106274f8819",
   "metadata": {},
   "outputs": [],
   "source": [
    "with open(\"/data/atlas/users/slin/myHepattn/hepattn/src/hepattn/experiments/trackml/configs/filtering.yaml\", \"r\") as f:\n",
    "    fconfig= yaml.safe_load(f)\n",
    "\n",
    "filter_params = [\"particle_min_pt\", \"particle_max_abs_eta\"]\n",
    "\n",
    "print(\"name: \"+fconfig[\"name\"])\n",
    "for i in filter_params:\n",
    "    print(\"> \"+i+\"\\t: \", fconfig[\"data\"][i])\n",
    "\n",
    "filtering_configs = {\n",
    "    \"0.9 GeV\": fconfig\n",
    "}\n",
    "\n",
    "filtering_fnames = {\n",
    "    \"0.9 GeV\": \"/data/atlas/users/slin/myHepattn/hepattn/src/hepattn/experiments/trackml/logs/HC-v3_20250818-T211321/ckpts/epoch=029-val_loss=0.34545_test_eval.h5\"\n",
    "}\n",
    "filter_threshold = filtering_configs[\"0.9 GeV\"][\"model\"][\"model\"][\"init_args\"][\"tasks\"][\"init_args\"][\"modules\"][0][\"init_args\"][\"threshold\"]\n",
    "print(\"> threshold\\t\\t: \", filter_threshold)\n",
    "filter_inputs = [\"hits_\"+filtering_configs[\"0.9 GeV\"][\"data\"][\"inputs\"][\"hit\"][i] for i in range(len(filtering_configs[\"0.9 GeV\"][\"data\"][\"inputs\"][\"hit\"]))]\n",
    "print(\"> inputs: \", filter_inputs)"
   ]
  },
  {
   "cell_type": "markdown",
   "id": "7b8c64a6",
   "metadata": {},
   "source": [
    "## Load evaluation file"
   ]
  },
  {
   "cell_type": "code",
   "execution_count": null,
   "id": "dd5f6dae",
   "metadata": {},
   "outputs": [],
   "source": [
    "import importlib\n",
    "import plot_utils\n",
    "import hit_evaluate\n",
    "importlib.reload(plot_utils)\n",
    "importlib.reload(hit_evaluate)\n",
    "from plot_utils import binned, profile_plot\n",
    "from hit_evaluate import load_events"
   ]
  },
  {
   "cell_type": "code",
   "execution_count": null,
   "id": "81ed8dd7",
   "metadata": {},
   "outputs": [],
   "source": [
    "from hit_evaluate import load_events\n",
    "from plot_utils import binned, profile_plot"
   ]
  },
  {
   "cell_type": "code",
   "execution_count": null,
   "id": "bc1f4dc5-8e83-490e-9496-d111a7952262",
   "metadata": {
    "scrolled": true
   },
   "outputs": [],
   "source": [
    "%%time\n",
    "filtering_results = {}\n",
    "num_events=None\n",
    "for name, fname in filtering_fnames.items():\n",
    "    filter_threshold = filtering_configs[name][\"model\"][\"model\"][\"init_args\"][\"tasks\"][\"init_args\"][\"modules\"][0][\"init_args\"][\"threshold\"]\n",
    "    filtering_results[name] = load_events(fname=fname, randomize=num_events, write_inputs=None, write_parts=True, threshold=filter_threshold)"
   ]
  },
  {
   "cell_type": "markdown",
   "id": "c7a3d64a-005d-4018-a595-0b682fa03a53",
   "metadata": {},
   "source": [
    "## Plotting metrics"
   ]
  },
  {
   "cell_type": "markdown",
   "id": "78e3f6f5-ebe9-40f2-8ef1-0a65983b9362",
   "metadata": {},
   "source": [
    "### Discriminant"
   ]
  },
  {
   "cell_type": "code",
   "execution_count": null,
   "id": "a178254c-6bb4-4910-a358-f43fb0ba4f88",
   "metadata": {},
   "outputs": [],
   "source": [
    "for name, (hits, targets, parts, metrics) in filtering_results.items():\n",
    "    fig, ax = plt.subplots(figsize=(5,3), constrained_layout=True)\n",
    "    ax.hist(hits[\"score_sigmoid\"][targets[\"hit_on_valid_particle\"]],\n",
    "            range=[0,1], bins=40, density=True,\n",
    "            color=\"C0\", alpha=0.5,\n",
    "            label=\"Valid hits\"\n",
    "           )\n",
    "    ax.hist(hits[\"score_sigmoid\"][~targets[\"hit_on_valid_particle\"]],\n",
    "            range=[0,1], bins=40, density=True,\n",
    "            color=\"C1\", alpha=0.5,\n",
    "            label=\"Invalid hits\"\n",
    "           )\n",
    "\n",
    "    ax.axvline(filter_threshold,\n",
    "                color=\"r\", ls=\"dashed\", label=\"Threshold: %.1f\"%(filter_threshold))\n",
    "    ax.set_xlabel(\"Discriminant score\")\n",
    "    ax.set_ylabel(\"Normalized counts\")\n",
    "    ax.set_xlim(-0.025,1.025)\n",
    "    ax.grid(which=\"both\")\n",
    "    ax.grid(zorder=0, alpha=0.25, linestyle=\"--\")\n",
    "    ax.legend()"
   ]
  },
  {
   "cell_type": "markdown",
   "id": "43c86b44-97e5-49c0-bb50-38f197cfe725",
   "metadata": {},
   "source": [
    "### Receiver operating characteristic"
   ]
  },
  {
   "cell_type": "code",
   "execution_count": null,
   "id": "22f75653-e5aa-49b0-b35e-7e7b1dd51ff1",
   "metadata": {},
   "outputs": [],
   "source": [
    "fig, ax = plt.subplots(figsize=(5,3), constrained_layout=True)\n",
    "for name, (hits, targets, parts, metrics) in filtering_results.items():\n",
    "    ax.plot(metrics[\"roc_fpr\"], metrics[\"roc_tpr\"],\n",
    "            color=training_colours[name],\n",
    "            label=\"%s %s\\nAUC: %.4f\"%(filtering_configs[name][\"name\"], name, metrics[\"roc_fpr_tpr_auc\"])\n",
    "           )\n",
    "\n",
    "    thid = np.argmin(np.abs(metrics[\"roc_fpr_tpr_thr\"] - 0.1))\n",
    "    ax.scatter(metrics[\"roc_fpr\"][thid], metrics[\"roc_tpr\"][thid],\n",
    "               color=training_colours[name], s=100)\n",
    "\n",
    "ax.set_xlabel(\"False positive rate\")\n",
    "ax.set_ylabel(\"True positive rate\")\n",
    "ax.set_xlim(-0.05,1.01)\n",
    "ax.set_ylim(0.0, 1.05)\n",
    "ax.grid(which=\"both\")\n",
    "ax.grid(zorder=0, alpha=0.25, linestyle=\"--\")\n",
    "ax.legend()"
   ]
  },
  {
   "cell_type": "markdown",
   "id": "62eea36e-ca8f-4807-88b4-803e0070f9a8",
   "metadata": {},
   "source": [
    "### Efficiency purity plot"
   ]
  },
  {
   "cell_type": "code",
   "execution_count": null,
   "id": "1dd01ebc-839d-4c32-a08d-95a32ee71da6",
   "metadata": {},
   "outputs": [],
   "source": [
    "fig, ax = plt.subplots(figsize=(5,3), constrained_layout=True)\n",
    "for name, (hits, targets, parts, metrics) in filtering_results.items():\n",
    "    ax.plot(metrics[\"roc_eff\"], metrics[\"roc_pur\"],\n",
    "            color=training_colours[name],\n",
    "            label=\"%s %s\\nAUC: %.4f\"%(filtering_configs[name][\"name\"], name, metrics[\"roc_eff_pur_auc\"])\n",
    "           )\n",
    "    #opt_thresh_label = \"Opt. thr.: %.2f\"%(filter_threshold)\n",
    "    thid = np.argmin(np.abs(metrics[\"roc_eff_pur_thr\"] - 0.1))\n",
    "    ax.scatter(metrics[\"roc_eff\"][thid], metrics[\"roc_pur\"][thid],\n",
    "               color=training_colours[name], s=100)#, label=opt_thresh_label)\n",
    "\n",
    "ax.set_xlabel(\"Hit Efficiency\")\n",
    "ax.set_ylabel(\"Hit Purity\")\n",
    "ax.set_xlim(0.9,1.01)\n",
    "ax.set_ylim(0.3, 1.01)\n",
    "ax.grid(which=\"both\")\n",
    "ax.grid(zorder=0, alpha=0.25, linestyle=\"--\")\n",
    "ax.grid(zorder=0, alpha=0.25, linestyle=\"--\")\n",
    "ax.legend()"
   ]
  },
  {
   "cell_type": "markdown",
   "id": "f5745a3a-5b40-418a-88e8-5de6688498a3",
   "metadata": {},
   "source": [
    "### Particle efficiency (pT binned)"
   ]
  },
  {
   "cell_type": "code",
   "execution_count": null,
   "id": "8f0113d0-290b-46dc-a488-048164b7a97f",
   "metadata": {},
   "outputs": [],
   "source": [
    "fig, ax = plt.subplots(figsize=(5,3), constrained_layout=True)\n",
    "\n",
    "for name, (hits, targets, parts, metrics) in filtering_results.items():\n",
    "    reconstructable = np.where(parts[\"pred_hits\"] >= 3, True, False) # reconstructable particles must have >=3 hits\n",
    "    reconstructable = reconstructable & parts[\"valid\"] # apply valid_particle selection\n",
    "    valid = ~np.isnan(parts[\"particle_pt\"]) # remove excess entries (particles in event less than n_max_particles)\n",
    "    bin_count, bin_error = binned(reconstructable[valid], parts[\"particle_pt\"][valid], qty_bins[\"pt\"])\n",
    "    profile_plot(bin_count, bin_error, qty_bins[\"pt\"], axes=ax, color=training_colours[\"0.9 GeV\"])\n",
    "\n",
    "ax.set_xlabel(r'Particle $%s$ %s'%(qty_symbols[\"pt\"], qty_units[\"pt\"]))\n",
    "ax.set_ylabel('Reconstructable particles')\n",
    "ax.set_ylim(0.97,1)\n",
    "ax.set_xticks(np.arange(start=2, stop=11, step=2))\n",
    "ax.grid(which='both')\n",
    "ax.grid(zorder=0, alpha=0.25, linestyle=\"--\")\n",
    "plt.show()"
   ]
  },
  {
   "cell_type": "markdown",
   "id": "3fefba2c-1a16-46d1-95d3-07db00f3a1a5",
   "metadata": {},
   "source": [
    "### Combined plot"
   ]
  },
  {
   "cell_type": "code",
   "execution_count": null,
   "id": "2f6f4b82-907a-4ec0-9da1-18c7bfe8c3e0",
   "metadata": {},
   "outputs": [],
   "source": [
    "fig, ax = plt.subplots(ncols=2, figsize=(10,3), constrained_layout=True)\n",
    "for name, (hits, targets, parts, metrics) in filtering_results.items():\n",
    "    ax[0].plot(metrics[\"roc_eff\"], metrics[\"roc_pur\"],\n",
    "            color=training_colours[name],\n",
    "            label=\"%s %s\\nAUC: %.4f\"%(filtering_configs[name][\"name\"], name, metrics[\"roc_eff_pur_auc\"])\n",
    "           )\n",
    "    thid = np.argmin(np.abs(metrics[\"roc_eff_pur_thr\"] - 0.1))\n",
    "    ax[0].scatter(metrics[\"roc_eff\"][thid], metrics[\"roc_pur\"][thid],\n",
    "                  color=training_colours[name], s=100)\n",
    "\n",
    "    # reconstructable particles must have >=3 hits\n",
    "    reconstructable = np.where(parts[\"pred_hits\"] >= 3, True, False)\n",
    "    # apply valid_particle selection\n",
    "    reconstructable = reconstructable & parts[\"valid\"]\n",
    "    # remove excess entries (particles in event less than n_max_particles)\n",
    "    valid = ~np.isnan(parts[\"particle_pt\"])\n",
    "    bin_count, bin_error = binned(reconstructable[valid], parts[\"particle_pt\"][valid], qty_bins[\"pt\"])\n",
    "    profile_plot(bin_count, bin_error, qty_bins[\"pt\"], axes=ax[1], color=training_colours[\"0.9 GeV\"], label=\"%s %s\"%(filtering_configs[name][\"name\"], name))\n",
    "\n",
    "ax[0].set_xlabel(\"Hit Efficiency\")\n",
    "ax[0].set_ylabel(\"Hit Purity\")\n",
    "ax[0].set_xlim(0.9,1.01)\n",
    "ax[0].set_ylim(0.3, 1.01)\n",
    "ax[0].grid(which=\"both\")\n",
    "ax[0].grid(zorder=0, alpha=0.25, linestyle=\"--\")\n",
    "ax[0].legend(loc=3)\n",
    "\n",
    "ax[1].set_xlabel(r'Particle $%s$ %s'%(qty_symbols[\"pt\"], qty_units[\"pt\"]))\n",
    "ax[1].set_ylabel('Reconstructable Particles')\n",
    "ax[1].set_ylim(0.97,1)\n",
    "ax[1].set_xticks(np.arange(start=2, stop=11, step=2))\n",
    "ax[1].grid(which='both')\n",
    "ax[1].grid(zorder=0, alpha=0.25, linestyle=\"--\")\n",
    "ax[1].legend(loc=3)\n",
    "\n",
    "fig.savefig(out_dir + \"/filter_response.pdf\")\n",
    "plt.show()"
   ]
  },
  {
   "cell_type": "code",
   "execution_count": null,
   "id": "cec3ffa1-c4a3-4193-8082-744cabc82d30",
   "metadata": {},
   "outputs": [],
   "source": []
  }
 ],
 "metadata": {
  "kernelspec": {
   "display_name": "myEnv",
   "language": "python",
   "name": "python3"
  },
  "language_info": {
   "codemirror_mode": {
    "name": "ipython",
    "version": 3
   },
   "file_extension": ".py",
   "mimetype": "text/x-python",
   "name": "python",
   "nbconvert_exporter": "python",
   "pygments_lexer": "ipython3",
   "version": "3.11.13"
  }
 },
 "nbformat": 4,
 "nbformat_minor": 5
}
